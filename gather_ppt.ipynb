{
 "cells": [
  {
   "cell_type": "code",
   "execution_count": 1,
   "metadata": {},
   "outputs": [],
   "source": [
    "import re\n",
    "import os\n",
    "import sys\n",
    "import time\n",
    "import glob\n",
    "import shutil\n",
    "import numpy as np\n",
    "import zipfile\n",
    "import comtypes.client\n",
    "from pdfrw import PdfReader, PdfWriter\n",
    "\n",
    "ppts_dir = 'ppts'\n",
    "if not os.path.isdir(ppts_dir):\n",
    "    os.mkdir(ppts_dir)"
   ]
  },
  {
   "cell_type": "code",
   "execution_count": 17,
   "metadata": {},
   "outputs": [],
   "source": [
    "for fp in [fp for fp in glob.glob(\"*\\\\*.pptx\") if 'ppts' not in fp]:\n",
    "    fp_src = os.path.abspath(fp)\n",
    "    fp_dst = os.path.abspath(os.path.join(ppts_dir, os.path.basename(fp)))\n",
    "    shutil.copyfile(fp_src, fp_dst)\n",
    "    "
   ]
  },
  {
   "cell_type": "code",
   "execution_count": 21,
   "metadata": {},
   "outputs": [
    {
     "name": "stdout",
     "output_type": "stream",
     "text": [
      "ppts\\00_EnvironmentInstallation.pptx\n",
      "ppts\\01_MLIntroduction.pptx\n",
      "ppts\\02_PreProcessing.pptx\n",
      "ppts\\03_ClusteringTheory.pptx\n",
      "ppts\\04_ClusteringPracticeWord2Vec.pptx\n",
      "ppts\\05_Classification.pptx\n",
      "ppts\\06_XgbCV.pptx\n"
     ]
    }
   ],
   "source": [
    "def ppt_to_pdf(inputFileName, outputFileName, formatType = 32):\n",
    "    powerpoint = comtypes.client.CreateObject(\"Powerpoint.Application\")\n",
    "    powerpoint.Visible = 1\n",
    "    deck = powerpoint.Presentations.Open(inputFileName)\n",
    "    deck.SaveAs(outputFileName, formatType) # formatType = 32 for ppt to pdf\n",
    "    deck.Close()\n",
    "    powerpoint.Quit()\n",
    "    \n",
    "for fp in glob.glob(ppts_dir+'\\\\*.pptx'):\n",
    "    print(fp)\n",
    "    fp_src = os.path.abspath(fp)\n",
    "    fp_dst = fp_src.replace('.pptx', '.pdf')\n",
    "    ppt_to_pdf(fp_src, fp_dst)"
   ]
  },
  {
   "cell_type": "code",
   "execution_count": 2,
   "metadata": {},
   "outputs": [],
   "source": [
    "def merge_pdfs(fps_src, fp_dst):\n",
    "    writer = PdfWriter()\n",
    "    for fp_src in fps_src:\n",
    "        writer.addpages(PdfReader(fp_src).pages)\n",
    "    writer.write(fp_dst)\n",
    "\n",
    "fps_src = glob.glob(ppts_dir + \"\\\\*.pdf\")\n",
    "fp_dst = os.path.join(ppts_dir, 'ScikitLearnAll.pdf')\n",
    "if os.path.exists(fp_dst):\n",
    "    os.remove(fp_dst)\n",
    "    fps_src.pop(fps_src.index(fp_dst))\n",
    "    time.sleep(1)\n",
    "merge_pdfs(fps_src, fp_dst)"
   ]
  },
  {
   "cell_type": "code",
   "execution_count": 3,
   "metadata": {},
   "outputs": [],
   "source": [
    "for fp in glob.glob(ppts_dir + \"\\\\*.pptx\"):\n",
    "    os.remove(fp)"
   ]
  },
  {
   "cell_type": "code",
   "execution_count": 4,
   "metadata": {},
   "outputs": [],
   "source": [
    "def zipdir(dir_fp, zip_fp):\n",
    "    zip_f = zipfile.ZipFile(zip_fp, 'w', zipfile.ZIP_DEFLATED)\n",
    "    for f in os.listdir(dir_fp):\n",
    "        zip_f.write(os.path.join(dir_fp, f))\n",
    "    zip_f.close()\n",
    "    \n",
    "zipdir(ppts_dir, os.path.join('static', \"ScikitLearn.zip\"))"
   ]
  },
  {
   "cell_type": "code",
   "execution_count": 5,
   "metadata": {},
   "outputs": [],
   "source": [
    "shutil.rmtree(ppts_dir)"
   ]
  },
  {
   "cell_type": "code",
   "execution_count": null,
   "metadata": {},
   "outputs": [],
   "source": []
  }
 ],
 "metadata": {
  "kernelspec": {
   "display_name": "IIIMaterial",
   "language": "python",
   "name": "iiimaterial"
  },
  "language_info": {
   "codemirror_mode": {
    "name": "ipython",
    "version": 3
   },
   "file_extension": ".py",
   "mimetype": "text/x-python",
   "name": "python",
   "nbconvert_exporter": "python",
   "pygments_lexer": "ipython3",
   "version": "3.6.8"
  }
 },
 "nbformat": 4,
 "nbformat_minor": 2
}
