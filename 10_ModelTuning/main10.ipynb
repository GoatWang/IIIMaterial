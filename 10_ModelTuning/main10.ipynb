{
 "cells": [
  {
   "cell_type": "code",
   "execution_count": 1,
   "metadata": {
    "scrolled": true
   },
   "outputs": [
    {
     "name": "stderr",
     "output_type": "stream",
     "text": [
      "C:\\Users\\User\\Projects\\Test\\IIIMaterial\\venv\\lib\\site-packages\\tensorflow\\python\\framework\\dtypes.py:516: FutureWarning: Passing (type, 1) or '1type' as a synonym of type is deprecated; in a future version of numpy, it will be understood as (type, (1,)) / '(1,)type'.\n",
      "  _np_qint8 = np.dtype([(\"qint8\", np.int8, 1)])\n",
      "C:\\Users\\User\\Projects\\Test\\IIIMaterial\\venv\\lib\\site-packages\\tensorflow\\python\\framework\\dtypes.py:517: FutureWarning: Passing (type, 1) or '1type' as a synonym of type is deprecated; in a future version of numpy, it will be understood as (type, (1,)) / '(1,)type'.\n",
      "  _np_quint8 = np.dtype([(\"quint8\", np.uint8, 1)])\n",
      "C:\\Users\\User\\Projects\\Test\\IIIMaterial\\venv\\lib\\site-packages\\tensorflow\\python\\framework\\dtypes.py:518: FutureWarning: Passing (type, 1) or '1type' as a synonym of type is deprecated; in a future version of numpy, it will be understood as (type, (1,)) / '(1,)type'.\n",
      "  _np_qint16 = np.dtype([(\"qint16\", np.int16, 1)])\n",
      "C:\\Users\\User\\Projects\\Test\\IIIMaterial\\venv\\lib\\site-packages\\tensorflow\\python\\framework\\dtypes.py:519: FutureWarning: Passing (type, 1) or '1type' as a synonym of type is deprecated; in a future version of numpy, it will be understood as (type, (1,)) / '(1,)type'.\n",
      "  _np_quint16 = np.dtype([(\"quint16\", np.uint16, 1)])\n",
      "C:\\Users\\User\\Projects\\Test\\IIIMaterial\\venv\\lib\\site-packages\\tensorflow\\python\\framework\\dtypes.py:520: FutureWarning: Passing (type, 1) or '1type' as a synonym of type is deprecated; in a future version of numpy, it will be understood as (type, (1,)) / '(1,)type'.\n",
      "  _np_qint32 = np.dtype([(\"qint32\", np.int32, 1)])\n",
      "C:\\Users\\User\\Projects\\Test\\IIIMaterial\\venv\\lib\\site-packages\\tensorflow\\python\\framework\\dtypes.py:525: FutureWarning: Passing (type, 1) or '1type' as a synonym of type is deprecated; in a future version of numpy, it will be understood as (type, (1,)) / '(1,)type'.\n",
      "  np_resource = np.dtype([(\"resource\", np.ubyte, 1)])\n",
      "C:\\Users\\User\\Projects\\Test\\IIIMaterial\\venv\\lib\\site-packages\\tensorboard\\compat\\tensorflow_stub\\dtypes.py:541: FutureWarning: Passing (type, 1) or '1type' as a synonym of type is deprecated; in a future version of numpy, it will be understood as (type, (1,)) / '(1,)type'.\n",
      "  _np_qint8 = np.dtype([(\"qint8\", np.int8, 1)])\n",
      "C:\\Users\\User\\Projects\\Test\\IIIMaterial\\venv\\lib\\site-packages\\tensorboard\\compat\\tensorflow_stub\\dtypes.py:542: FutureWarning: Passing (type, 1) or '1type' as a synonym of type is deprecated; in a future version of numpy, it will be understood as (type, (1,)) / '(1,)type'.\n",
      "  _np_quint8 = np.dtype([(\"quint8\", np.uint8, 1)])\n",
      "C:\\Users\\User\\Projects\\Test\\IIIMaterial\\venv\\lib\\site-packages\\tensorboard\\compat\\tensorflow_stub\\dtypes.py:543: FutureWarning: Passing (type, 1) or '1type' as a synonym of type is deprecated; in a future version of numpy, it will be understood as (type, (1,)) / '(1,)type'.\n",
      "  _np_qint16 = np.dtype([(\"qint16\", np.int16, 1)])\n",
      "C:\\Users\\User\\Projects\\Test\\IIIMaterial\\venv\\lib\\site-packages\\tensorboard\\compat\\tensorflow_stub\\dtypes.py:544: FutureWarning: Passing (type, 1) or '1type' as a synonym of type is deprecated; in a future version of numpy, it will be understood as (type, (1,)) / '(1,)type'.\n",
      "  _np_quint16 = np.dtype([(\"quint16\", np.uint16, 1)])\n",
      "C:\\Users\\User\\Projects\\Test\\IIIMaterial\\venv\\lib\\site-packages\\tensorboard\\compat\\tensorflow_stub\\dtypes.py:545: FutureWarning: Passing (type, 1) or '1type' as a synonym of type is deprecated; in a future version of numpy, it will be understood as (type, (1,)) / '(1,)type'.\n",
      "  _np_qint32 = np.dtype([(\"qint32\", np.int32, 1)])\n",
      "C:\\Users\\User\\Projects\\Test\\IIIMaterial\\venv\\lib\\site-packages\\tensorboard\\compat\\tensorflow_stub\\dtypes.py:550: FutureWarning: Passing (type, 1) or '1type' as a synonym of type is deprecated; in a future version of numpy, it will be understood as (type, (1,)) / '(1,)type'.\n",
      "  np_resource = np.dtype([(\"resource\", np.ubyte, 1)])\n"
     ]
    }
   ],
   "source": [
    "import os\n",
    "import numpy as np\n",
    "from matplotlib import pyplot as plt\n",
    "from tensorflow.examples.tutorials.mnist import input_data\n",
    "import xgboost\n",
    "import lightgbm\n"
   ]
  },
  {
   "cell_type": "code",
   "execution_count": 2,
   "metadata": {},
   "outputs": [
    {
     "name": "stdout",
     "output_type": "stream",
     "text": [
      "WARNING:tensorflow:From <ipython-input-2-37a12d21e06a>:1: read_data_sets (from tensorflow.contrib.learn.python.learn.datasets.mnist) is deprecated and will be removed in a future version.\n",
      "Instructions for updating:\n",
      "Please use alternatives such as official/mnist/dataset.py from tensorflow/models.\n",
      "WARNING:tensorflow:From C:\\Users\\User\\Projects\\Test\\IIIMaterial\\venv\\lib\\site-packages\\tensorflow\\contrib\\learn\\python\\learn\\datasets\\mnist.py:260: maybe_download (from tensorflow.contrib.learn.python.learn.datasets.base) is deprecated and will be removed in a future version.\n",
      "Instructions for updating:\n",
      "Please write your own downloading logic.\n",
      "WARNING:tensorflow:From C:\\Users\\User\\Projects\\Test\\IIIMaterial\\venv\\lib\\site-packages\\tensorflow\\contrib\\learn\\python\\learn\\datasets\\base.py:252: _internal_retry.<locals>.wrap.<locals>.wrapped_fn (from tensorflow.contrib.learn.python.learn.datasets.base) is deprecated and will be removed in a future version.\n",
      "Instructions for updating:\n",
      "Please use urllib or similar directly.\n",
      "Successfully downloaded train-images-idx3-ubyte.gz 9912422 bytes.\n",
      "WARNING:tensorflow:From C:\\Users\\User\\Projects\\Test\\IIIMaterial\\venv\\lib\\site-packages\\tensorflow\\contrib\\learn\\python\\learn\\datasets\\mnist.py:262: extract_images (from tensorflow.contrib.learn.python.learn.datasets.mnist) is deprecated and will be removed in a future version.\n",
      "Instructions for updating:\n",
      "Please use tf.data to implement this functionality.\n",
      "Extracting MNIST_data\\train-images-idx3-ubyte.gz\n",
      "Successfully downloaded train-labels-idx1-ubyte.gz 28881 bytes.\n",
      "WARNING:tensorflow:From C:\\Users\\User\\Projects\\Test\\IIIMaterial\\venv\\lib\\site-packages\\tensorflow\\contrib\\learn\\python\\learn\\datasets\\mnist.py:267: extract_labels (from tensorflow.contrib.learn.python.learn.datasets.mnist) is deprecated and will be removed in a future version.\n",
      "Instructions for updating:\n",
      "Please use tf.data to implement this functionality.\n",
      "Extracting MNIST_data\\train-labels-idx1-ubyte.gz\n",
      "Successfully downloaded t10k-images-idx3-ubyte.gz 1648877 bytes.\n",
      "Extracting MNIST_data\\t10k-images-idx3-ubyte.gz\n",
      "Successfully downloaded t10k-labels-idx1-ubyte.gz 4542 bytes.\n",
      "Extracting MNIST_data\\t10k-labels-idx1-ubyte.gz\n",
      "WARNING:tensorflow:From C:\\Users\\User\\Projects\\Test\\IIIMaterial\\venv\\lib\\site-packages\\tensorflow\\contrib\\learn\\python\\learn\\datasets\\mnist.py:290: DataSet.__init__ (from tensorflow.contrib.learn.python.learn.datasets.mnist) is deprecated and will be removed in a future version.\n",
      "Instructions for updating:\n",
      "Please use alternatives such as official/mnist/dataset.py from tensorflow/models.\n",
      "X_train.shape (55000, 784)\n",
      "Y_train.shape (55000,)\n",
      "X_valid.shape (10000, 784)\n",
      "Y_valid.shape (10000,)\n"
     ]
    }
   ],
   "source": [
    "mnist = input_data.read_data_sets('MNIST_data')\n",
    "X_train = mnist.train.images\n",
    "Y_train = mnist.train.labels\n",
    "X_valid = mnist.test.images\n",
    "Y_valid = mnist.test.labels\n",
    "\n",
    "print(\"X_train.shape\", X_train.shape)\n",
    "print(\"Y_train.shape\", Y_train.shape)\n",
    "print(\"X_valid.shape\", X_valid.shape)\n",
    "print(\"Y_valid.shape\", Y_valid.shape)\n"
   ]
  },
  {
   "cell_type": "code",
   "execution_count": 3,
   "metadata": {
    "scrolled": true
   },
   "outputs": [
    {
     "name": "stdout",
     "output_type": "stream",
     "text": [
      "7\n"
     ]
    },
    {
     "data": {
      "image/png": "[encoded data removed]",
      "text/plain": [
       "<Figure size 432x288 with 1 Axes>"
      ]
     },
     "metadata": {
      "needs_background": "light"
     },
     "output_type": "display_data"
    },
    {
     "name": "stdout",
     "output_type": "stream",
     "text": [
      "3\n"
     ]
    },
    {
     "data": {
      "image/png": "[encoded data removed]",
      "text/plain": [
       "<Figure size 432x288 with 1 Axes>"
      ]
     },
     "metadata": {
      "needs_background": "light"
     },
     "output_type": "display_data"
    },
    {
     "name": "stdout",
     "output_type": "stream",
     "text": [
      "4\n"
     ]
    },
    {
     "data": {
      "image/png": "[encoded data removed]",
      "text/plain": [
       "<Figure size 432x288 with 1 Axes>"
      ]
     },
     "metadata": {
      "needs_background": "light"
     },
     "output_type": "display_data"
    },
    {
     "name": "stdout",
     "output_type": "stream",
     "text": [
      "6\n"
     ]
    },
    {
     "data": {
      "image/png": "[encoded data removed]",
      "text/plain": [
       "<Figure size 432x288 with 1 Axes>"
      ]
     },
     "metadata": {
      "needs_background": "light"
     },
     "output_type": "display_data"
    },
    {
     "name": "stdout",
     "output_type": "stream",
     "text": [
      "1\n"
     ]
    },
    {
     "data": {
      "image/png": "[encoded data removed]",
      "text/plain": [
       "<Figure size 432x288 with 1 Axes>"
      ]
     },
     "metadata": {
      "needs_background": "light"
     },
     "output_type": "display_data"
    },
    {
     "name": "stdout",
     "output_type": "stream",
     "text": [
      "8\n"
     ]
    },
    {
     "data": {
      "image/png": "[encoded data removed]",
      "text/plain": [
       "<Figure size 432x288 with 1 Axes>"
      ]
     },
     "metadata": {
      "needs_background": "light"
     },
     "output_type": "display_data"
    },
    {
     "name": "stdout",
     "output_type": "stream",
     "text": [
      "1\n"
     ]
    },
    {
     "data": {
      "image/png": "[encoded data removed]",
      "text/plain": [
       "<Figure size 432x288 with 1 Axes>"
      ]
     },
     "metadata": {
      "needs_background": "light"
     },
     "output_type": "display_data"
    },
    {
     "name": "stdout",
     "output_type": "stream",
     "text": [
      "0\n"
     ]
    },
    {
     "data": {
      "image/png": "[encoded data removed]",
      "text/plain": [
       "<Figure size 432x288 with 1 Axes>"
      ]
     },
     "metadata": {
      "needs_background": "light"
     },
     "output_type": "display_data"
    },
    {
     "name": "stdout",
     "output_type": "stream",
     "text": [
      "9\n"
     ]
    },
    {
     "data": {
      "image/png": "[encoded data removed]",
      "text/plain": [
       "<Figure size 432x288 with 1 Axes>"
      ]
     },
     "metadata": {
      "needs_background": "light"
     },
     "output_type": "display_data"
    },
    {
     "name": "stdout",
     "output_type": "stream",
     "text": [
      "8\n"
     ]
    },
    {
     "data": {
      "image/png": "[encoded data removed]",
      "text/plain": [
       "<Figure size 432x288 with 1 Axes>"
      ]
     },
     "metadata": {
      "needs_background": "light"
     },
     "output_type": "display_data"
    }
   ],
   "source": [
    "def print_minst_img(X):\n",
    "    # 1. calculate its width & height using sqrt\n",
    "    # 2. reshape the vector in width & height matrix (2 dimension)\n",
    "    # 3. use plt.imshow with cmap='gray' parameter to draw the image\n",
    "    #=============your works starts===============#\n",
    "    width = int(np.sqrt(len(X)))\n",
    "    X = X.reshape(width, width)\n",
    "    plt.imshow(X, cmap='gray')\n",
    "    #==============your works ends================#\n",
    "    plt.show()\n",
    "\n",
    "for i in range(10):\n",
    "    print(Y_train[i])\n",
    "    print_minst_img(X_train[i])\n"
   ]
  },
  {
   "cell_type": "code",
   "execution_count": 4,
   "metadata": {},
   "outputs": [],
   "source": [
    "# %%time\n",
    "\n",
    "# params = {}\n",
    "# # Set our parameters for xgboost\n",
    "# #=============your works starts===============#\n",
    "# params['objective'] = 'multi:softmax'\n",
    "# params['eval_metric'] = 'mlogloss'\n",
    "# params['eta'] = 0.1\n",
    "# params['max_depth'] = 3\n",
    "# params['num_class'] = len(set(Y_train))\n",
    "# params['seed'] = 2019\n",
    "# #==============your works ends================#\n",
    "\n",
    "# d_train = xgboost.DMatrix(X_train, label=Y_train)\n",
    "# d_valid = xgboost.DMatrix(X_valid, label=Y_valid)\n",
    "# watchlist = [(d_train, 'train'), (d_valid, 'valid')]\n",
    "# bst = xgboost.train(params, d_train, 100, watchlist, early_stopping_rounds=10, verbose_eval=10)\n",
    "\n",
    "# y_pred = bst.predict(xgboost.DMatrix(X_valid))\n",
    "# print(\"Accuracy: \", str(np.sum(Y_valid == y_pred)/Y_valid.shape[0]))"
   ]
  },
  {
   "cell_type": "code",
   "execution_count": 5,
   "metadata": {},
   "outputs": [],
   "source": [
    "# false_idxs = np.where(Y_valid != y_pred)[0]\n",
    "# print(len(false_idxs))\n",
    "# false_idxs = false_idxs[:10]\n",
    "# for idx in false_idxs:\n",
    "#     print(Y_valid[idx])\n",
    "#     print(y_pred[idx])\n",
    "#     print_minst_img(X_valid[idx])"
   ]
  },
  {
   "cell_type": "code",
   "execution_count": 6,
   "metadata": {
    "scrolled": true
   },
   "outputs": [
    {
     "name": "stdout",
     "output_type": "stream",
     "text": [
      "[1]\tvalid_0's multi_logloss: 2.10914\n",
      "Training until validation scores don't improve for 100 rounds.\n",
      "[2]\tvalid_0's multi_logloss: 1.95409\n",
      "[3]\tvalid_0's multi_logloss: 1.82352\n",
      "[4]\tvalid_0's multi_logloss: 1.71134\n",
      "[5]\tvalid_0's multi_logloss: 1.61274\n",
      "[6]\tvalid_0's multi_logloss: 1.52385\n",
      "[7]\tvalid_0's multi_logloss: 1.44505\n",
      "[8]\tvalid_0's multi_logloss: 1.37213\n",
      "[9]\tvalid_0's multi_logloss: 1.30636\n",
      "[10]\tvalid_0's multi_logloss: 1.24526\n",
      "[11]\tvalid_0's multi_logloss: 1.18925\n",
      "[12]\tvalid_0's multi_logloss: 1.13729\n",
      "[13]\tvalid_0's multi_logloss: 1.08902\n",
      "[14]\tvalid_0's multi_logloss: 1.04319\n",
      "[15]\tvalid_0's multi_logloss: 1.00101\n",
      "[16]\tvalid_0's multi_logloss: 0.960663\n",
      "[17]\tvalid_0's multi_logloss: 0.923131\n",
      "[18]\tvalid_0's multi_logloss: 0.88784\n",
      "[19]\tvalid_0's multi_logloss: 0.854367\n",
      "[20]\tvalid_0's multi_logloss: 0.822639\n",
      "[21]\tvalid_0's multi_logloss: 0.792837\n",
      "[22]\tvalid_0's multi_logloss: 0.764392\n",
      "[23]\tvalid_0's multi_logloss: 0.737346\n",
      "[24]\tvalid_0's multi_logloss: 0.711633\n",
      "[25]\tvalid_0's multi_logloss: 0.687371\n",
      "[26]\tvalid_0's multi_logloss: 0.663969\n",
      "[27]\tvalid_0's multi_logloss: 0.641794\n",
      "[28]\tvalid_0's multi_logloss: 0.620885\n",
      "[29]\tvalid_0's multi_logloss: 0.601221\n",
      "[30]\tvalid_0's multi_logloss: 0.582451\n",
      "[31]\tvalid_0's multi_logloss: 0.564217\n",
      "[32]\tvalid_0's multi_logloss: 0.546787\n",
      "[33]\tvalid_0's multi_logloss: 0.530136\n",
      "[34]\tvalid_0's multi_logloss: 0.514234\n",
      "[35]\tvalid_0's multi_logloss: 0.499045\n",
      "[36]\tvalid_0's multi_logloss: 0.484371\n",
      "[37]\tvalid_0's multi_logloss: 0.470485\n",
      "[38]\tvalid_0's multi_logloss: 0.457082\n",
      "[39]\tvalid_0's multi_logloss: 0.444114\n",
      "[40]\tvalid_0's multi_logloss: 0.431745\n",
      "[41]\tvalid_0's multi_logloss: 0.419932\n",
      "[42]\tvalid_0's multi_logloss: 0.408701\n",
      "[43]\tvalid_0's multi_logloss: 0.39796\n",
      "[44]\tvalid_0's multi_logloss: 0.387596\n",
      "[45]\tvalid_0's multi_logloss: 0.377851\n",
      "[46]\tvalid_0's multi_logloss: 0.368374\n",
      "[47]\tvalid_0's multi_logloss: 0.359269\n",
      "[48]\tvalid_0's multi_logloss: 0.350333\n",
      "[49]\tvalid_0's multi_logloss: 0.341967\n",
      "[50]\tvalid_0's multi_logloss: 0.333887\n",
      "[51]\tvalid_0's multi_logloss: 0.326207\n",
      "[52]\tvalid_0's multi_logloss: 0.318873\n",
      "[53]\tvalid_0's multi_logloss: 0.311737\n",
      "[54]\tvalid_0's multi_logloss: 0.304988\n",
      "[55]\tvalid_0's multi_logloss: 0.298324\n",
      "[56]\tvalid_0's multi_logloss: 0.291714\n",
      "[57]\tvalid_0's multi_logloss: 0.285395\n",
      "[58]\tvalid_0's multi_logloss: 0.279515\n",
      "[59]\tvalid_0's multi_logloss: 0.273763\n",
      "[60]\tvalid_0's multi_logloss: 0.268071\n",
      "[61]\tvalid_0's multi_logloss: 0.262531\n",
      "[62]\tvalid_0's multi_logloss: 0.257247\n",
      "[63]\tvalid_0's multi_logloss: 0.252153\n",
      "[64]\tvalid_0's multi_logloss: 0.247355\n",
      "[65]\tvalid_0's multi_logloss: 0.242678\n",
      "[66]\tvalid_0's multi_logloss: 0.238162\n",
      "[67]\tvalid_0's multi_logloss: 0.233793\n",
      "[68]\tvalid_0's multi_logloss: 0.22949\n",
      "[69]\tvalid_0's multi_logloss: 0.225474\n",
      "[70]\tvalid_0's multi_logloss: 0.221543\n",
      "[71]\tvalid_0's multi_logloss: 0.217815\n",
      "[72]\tvalid_0's multi_logloss: 0.214062\n",
      "[73]\tvalid_0's multi_logloss: 0.21048\n",
      "[74]\tvalid_0's multi_logloss: 0.206951\n",
      "[75]\tvalid_0's multi_logloss: 0.203619\n",
      "[76]\tvalid_0's multi_logloss: 0.200549\n",
      "[77]\tvalid_0's multi_logloss: 0.197454\n",
      "[78]\tvalid_0's multi_logloss: 0.194526\n",
      "[79]\tvalid_0's multi_logloss: 0.191668\n",
      "[80]\tvalid_0's multi_logloss: 0.188822\n",
      "[81]\tvalid_0's multi_logloss: 0.186153\n",
      "[82]\tvalid_0's multi_logloss: 0.183619\n",
      "[83]\tvalid_0's multi_logloss: 0.18101\n",
      "[84]\tvalid_0's multi_logloss: 0.178641\n",
      "[85]\tvalid_0's multi_logloss: 0.176278\n",
      "[86]\tvalid_0's multi_logloss: 0.173944\n",
      "[87]\tvalid_0's multi_logloss: 0.171666\n",
      "[88]\tvalid_0's multi_logloss: 0.169445\n",
      "[89]\tvalid_0's multi_logloss: 0.167398\n",
      "[90]\tvalid_0's multi_logloss: 0.165508\n",
      "[91]\tvalid_0's multi_logloss: 0.163448\n",
      "[92]\tvalid_0's multi_logloss: 0.161426\n",
      "[93]\tvalid_0's multi_logloss: 0.15949\n",
      "[94]\tvalid_0's multi_logloss: 0.15764\n",
      "[95]\tvalid_0's multi_logloss: 0.15586\n",
      "[96]\tvalid_0's multi_logloss: 0.154023\n",
      "[97]\tvalid_0's multi_logloss: 0.152273\n",
      "[98]\tvalid_0's multi_logloss: 0.150556\n",
      "[99]\tvalid_0's multi_logloss: 0.149053\n",
      "[100]\tvalid_0's multi_logloss: 0.147458\n",
      "Did not meet early stopping. Best iteration is:\n",
      "[100]\tvalid_0's multi_logloss: 0.147458\n",
      "Accuracy:  0.9645\n",
      "Wall time: 3min 57s\n"
     ]
    }
   ],
   "source": [
    "%%time\n",
    "\n",
    "params = {}\n",
    "# Set our parameters for lightgbm\n",
    "#=============your works starts===============#\n",
    "params['objective'] =  \"multiclass\"\n",
    "params['num_class'] =  len(set(Y_train))\n",
    "params['num_leaves'] =  60\n",
    "params['max_depth'] =  -1\n",
    "params['learning_rate'] =  0.05\n",
    "params['bagging_fraction'] =  0.8\n",
    "params['feature_fraction'] =  0.8\n",
    "params['bagging_freq'] =  5\n",
    "params['verbosity'] =  1\n",
    "params['seed'] =  2019\n",
    "\n",
    "#==============your works ends================#\n",
    "\n",
    "d_train = lightgbm.Dataset(X_train, Y_train)\n",
    "d_valid = lightgbm.Dataset(X_valid, Y_valid)\n",
    "\n",
    "lgb_model = lightgbm.train(params,\n",
    "                           d_train,\n",
    "                           valid_sets=d_valid,\n",
    "                           num_boost_round=100,\n",
    "                           early_stopping_rounds=100)\n",
    "\n",
    "y_pred = lgb_model.predict(X_valid)\n",
    "y_pred = np.argmax(y_pred, axis=1)\n",
    "print(\"Accuracy: \", str(np.sum(Y_valid == y_pred)/Y_valid.shape[0]))"
   ]
  },
  {
   "cell_type": "code",
   "execution_count": 7,
   "metadata": {},
   "outputs": [
    {
     "name": "stdout",
     "output_type": "stream",
     "text": [
      "355\n",
      "3\n",
      "2\n"
     ]
    },
    {
     "data": {
      "image/png": "[encoded data removed]",
      "text/plain": [
       "<Figure size 432x288 with 1 Axes>"
      ]
     },
     "metadata": {
      "needs_background": "light"
     },
     "output_type": "display_data"
    },
    {
     "name": "stdout",
     "output_type": "stream",
     "text": [
      "7\n",
      "4\n"
     ]
    },
    {
     "data": {
      "image/png": "[encoded data removed]",
      "text/plain": [
       "<Figure size 432x288 with 1 Axes>"
      ]
     },
     "metadata": {
      "needs_background": "light"
     },
     "output_type": "display_data"
    },
    {
     "name": "stdout",
     "output_type": "stream",
     "text": [
      "2\n",
      "9\n"
     ]
    },
    {
     "data": {
      "image/png": "[encoded data removed]",
      "text/plain": [
       "<Figure size 432x288 with 1 Axes>"
      ]
     },
     "metadata": {
      "needs_background": "light"
     },
     "output_type": "display_data"
    },
    {
     "name": "stdout",
     "output_type": "stream",
     "text": [
      "9\n",
      "8\n"
     ]
    },
    {
     "data": {
      "image/png": "[encoded data removed]",
      "text/plain": [
       "<Figure size 432x288 with 1 Axes>"
      ]
     },
     "metadata": {
      "needs_background": "light"
     },
     "output_type": "display_data"
    },
    {
     "name": "stdout",
     "output_type": "stream",
     "text": [
      "4\n",
      "6\n"
     ]
    },
    {
     "data": {
      "image/png": "[encoded data removed]",
      "text/plain": [
       "<Figure size 432x288 with 1 Axes>"
      ]
     },
     "metadata": {
      "needs_background": "light"
     },
     "output_type": "display_data"
    },
    {
     "name": "stdout",
     "output_type": "stream",
     "text": [
      "6\n",
      "0\n"
     ]
    },
    {
     "data": {
      "image/png": "[encoded data removed]",
      "text/plain": [
       "<Figure size 432x288 with 1 Axes>"
      ]
     },
     "metadata": {
      "needs_background": "light"
     },
     "output_type": "display_data"
    },
    {
     "name": "stdout",
     "output_type": "stream",
     "text": [
      "9\n",
      "1\n"
     ]
    },
    {
     "data": {
      "image/png": "[encoded data removed]",
      "text/plain": [
       "<Figure size 432x288 with 1 Axes>"
      ]
     },
     "metadata": {
      "needs_background": "light"
     },
     "output_type": "display_data"
    },
    {
     "name": "stdout",
     "output_type": "stream",
     "text": [
      "2\n",
      "7\n"
     ]
    },
    {
     "data": {
      "image/png": "[encoded data removed]",
      "text/plain": [
       "<Figure size 432x288 with 1 Axes>"
      ]
     },
     "metadata": {
      "needs_background": "light"
     },
     "output_type": "display_data"
    },
    {
     "name": "stdout",
     "output_type": "stream",
     "text": [
      "5\n",
      "3\n"
     ]
    },
    {
     "data": {
      "image/png": "[encoded data removed]",
      "text/plain": [
       "<Figure size 432x288 with 1 Axes>"
      ]
     },
     "metadata": {
      "needs_background": "light"
     },
     "output_type": "display_data"
    },
    {
     "name": "stdout",
     "output_type": "stream",
     "text": [
      "3\n",
      "7\n"
     ]
    },
    {
     "data": {
      "image/png": "[encoded data removed]",
      "text/plain": [
       "<Figure size 432x288 with 1 Axes>"
      ]
     },
     "metadata": {
      "needs_background": "light"
     },
     "output_type": "display_data"
    }
   ],
   "source": [
    "false_idxs = np.where(Y_valid != y_pred)[0]\n",
    "print(len(false_idxs))\n",
    "false_idxs = false_idxs[:10]\n",
    "for idx in false_idxs:\n",
    "    print(Y_valid[idx])\n",
    "    print(y_pred[idx])\n",
    "    print_minst_img(X_valid[idx])"
   ]
  },
  {
   "cell_type": "code",
   "execution_count": 8,
   "metadata": {},
   "outputs": [
    {
     "name": "stdout",
     "output_type": "stream",
     "text": [
      "Accuracy:  0.9645\n"
     ]
    }
   ],
   "source": [
    "lgb_model.save_model('lgb_model.txt', num_iteration=lgb_model.best_iteration) \n",
    "lgb_model = lightgbm.Booster(model_file='lgb_model.txt')\n",
    "y_pred = lgb_model.predict(X_valid)\n",
    "y_pred = np.argmax(y_pred, axis=1)\n",
    "print(\"Accuracy: \", str(np.sum(Y_valid == y_pred)/Y_valid.shape[0]))"
   ]
  },
  {
   "cell_type": "code",
   "execution_count": 9,
   "metadata": {},
   "outputs": [],
   "source": [
    "if not os.path.isdir('testing_images'):\n",
    "    os.mkdir(\"testing_images\")\n",
    "    \n",
    "def convert_to_img(X):\n",
    "    width = int(np.sqrt(len(X)))\n",
    "    return X.reshape((width, width))\n",
    "\n",
    "for idx in range(len(X_valid))[:20]:\n",
    "    x = X_valid[idx]\n",
    "    y = Y_valid[idx]\n",
    "    filename = (\"%2i\"%idx).replace(\" \", \"0\") + \"_\" + str(y) + '.png'\n",
    "    filepath = os.path.join(\"testing_images\", filename)\n",
    "    plt.imsave(filepath, convert_to_img(x), cmap='gray')"
   ]
  },
  {
   "cell_type": "code",
   "execution_count": null,
   "metadata": {},
   "outputs": [],
   "source": []
  }
 ],
 "metadata": {
  "kernelspec": {
   "display_name": "IIIMaterial",
   "language": "python",
   "name": "iiimaterial"
  },
  "language_info": {
   "codemirror_mode": {
    "name": "ipython",
    "version": 3
   },
   "file_extension": ".py",
   "mimetype": "text/x-python",
   "name": "python",
   "nbconvert_exporter": "python",
   "pygments_lexer": "ipython3",
   "version": "3.6.8"
  }
 },
 "nbformat": 4,
 "nbformat_minor": 2
}
