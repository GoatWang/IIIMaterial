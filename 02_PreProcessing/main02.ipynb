{
 "cells": [
  {
   "cell_type": "markdown",
   "metadata": {},
   "source": [
    "# 前處理-資料清理\n",
    "1. missing data\n",
    "    - 平均值、中位數、屆在平均值與標準差之間的亂數\n",
    "    \n",
    "2. range差異過大的資料\n",
    "    - 偵測(identity): PCA\n",
    "    \n",
    "    - 處理: 取log e.g. 10^1 => 1, 10^6 => 6\n",
    "    \n",
    "4. 資料不一致的問題\n",
    "    - domain knowledge e.g. 年紀為負的\n",
    "    \n",
    "5. 正規化(Normalize)\n",
    "    - L1 Norm(穩定: 水平調整較少): \n",
    "        - $\\|𝑥\\|_{1𝑖} = \\dfrac{𝑥_𝑖}{\\sum{|𝑥_𝑖|}}$\n",
    "    - L2 Norm(強健: 較能對抗outlier): \n",
    "        - $\\|𝑥\\|_{2𝑖}=\\dfrac{𝑥_𝑖}{\\sqrt{(\\sum{𝑥_𝑖^2)}}}$\n",
    "    - Norm to 0 ~ 1\n",
    "        - $\\|𝑥\\|=\\dfrac{𝑥_𝑖 - min(x)}{ max(x) - min(x)}$\n",
    "\n",
    "6. 類別型資料的處理\n",
    "    - 自然語言(NLP): 先轉成類別型資料\n",
    "    - onehot encoding\n",
    "    \n",
    "| 0 | 1 | 2 |\n",
    "|---|---|---|\n",
    "|[1,0,0]|[0,1,0]|[0,0,1]|\n",
    "\n",
    "7. Feature 產生工具\n",
    "    - PolynomialFeatures: (𝑋_1, 𝑋_2)=> (1, 𝑋_1, 𝑋_2, 𝑋_1^2, 𝑋_1 𝑋_2, 𝑋_2^2)\n",
    "    \n",
    "8. 議題:\n",
    "    - 請問取log與normalize有什麼差別?\n",
    "    \n",
    "    \n",
    "    \n",
    "    \n",
    "    "
   ]
  },
  {
   "cell_type": "markdown",
   "metadata": {},
   "source": [
    "# IMPORT & DATA\n"
   ]
  },
  {
   "cell_type": "code",
   "execution_count": 1,
   "metadata": {},
   "outputs": [],
   "source": [
    "import os             # for directory & file operation\n",
    "import re             # for text detection\n",
    "import pandas as pd   # excel in python\n",
    "import numpy as np    # matrix operation\n",
    "from collections import Counter     # count num for each items in the list\n",
    "from sklearn import preprocessing   # Normalize, OneHotEncoding, PolynomialFeatures\n",
    "\n",
    "# PCA calculation & Drawing\n",
    "import matplotlib.pyplot as plt\n",
    "from mpl_toolkits.mplot3d import Axes3D\n",
    "from sklearn.decomposition import PCA\n"
   ]
  },
  {
   "cell_type": "markdown",
   "metadata": {},
   "source": [
    "## os \n",
    "```\n",
    "'\\n' => 換行\n",
    "'\\t' => tab\n",
    "'\\\\' => \\\n",
    "```\n",
    "\n",
    "```\n",
    "# os.listdir # list files\n",
    "# os.path.join # join file paths\n",
    "# os.path.isdir \n",
    "# os.path.isfile \n",
    "# os.remove\n",
    "# os.mkdir => create new directory\n",
    "```"
   ]
  },
  {
   "cell_type": "markdown",
   "metadata": {},
   "source": [
    "### pandas indexing\n",
    "\n",
    "```\n",
    "type(df) => DataFrame\n",
    "df.columns => call columns\n",
    "df['Survived'] => indexing all rows for a specific column\n",
    "type(df['Survived']) => Series\n",
    "df[['PassengerId', 'Survived']] => indexing all rows for specific columns\n",
    "df.loc[10] => indexing all column for a specific row\n",
    "df.loc[10:12] => indexing all column for specific rows\n",
    "df.loc[10:12, ['PassengerId', 'Survived']] => indexing both columns and rows\n",
    "df.loc[df['Survived'] == 1] => indexing by condition\n",
    "df[(df['Survived'] == 1) & (df['Age'] > 30)] => indexing by multiple conditions\n",
    "```"
   ]
  },
  {
   "cell_type": "markdown",
   "metadata": {},
   "source": [
    "### Ways to run for loop (DataFrame)\n",
    "```\n",
    "# version 0\n",
    "indexer = []\n",
    "for idx, row in df.iterrows():\n",
    "    if 'Mr' in row['Name']:\n",
    "        indexer.append(True)\n",
    "    else:\n",
    "        indexer.append(False)\n",
    "df[indexer]\n",
    "\n",
    "# version 1\n",
    "def apply_fun(row):\n",
    "    if 'Mr' in row['Name']:\n",
    "        return True\n",
    "    else:\n",
    "        return False\n",
    "\n",
    "# version 2\n",
    "def apply_fun(row):\n",
    "    return 'Mr' in row['Name']\n",
    "\n",
    "# version 3\n",
    "apply_fun = lambda row:'Mr' in row['Name']\n",
    "df[df.apply(apply_fun, axis=1)]\n",
    "\n",
    "# version 4\n",
    "df[df.apply(lambda row:'Mr' in row['Name'], axis=1)]\n",
    "```\n",
    "\n",
    "### Ways to run for loop (Series)\n",
    "```\n",
    "# def cal_len(name):\n",
    "#     return len(name)\n",
    "# df['Name'].apply(cal_len) #把function apply 到每一個element上\n",
    "# df['Name'].apply(lambda name:len(name)) #把function apply 到每一個element上\n",
    "df['Name'].apply(lambda x:len(x)) #把function apply 到每一個element上\n",
    "```"
   ]
  },
  {
   "cell_type": "code",
   "execution_count": 2,
   "metadata": {},
   "outputs": [
    {
     "name": "stdout",
     "output_type": "stream",
     "text": [
      "<class 'pandas.core.frame.DataFrame'>\n",
      "RangeIndex: 891 entries, 0 to 890\n",
      "Data columns (total 12 columns):\n",
      "PassengerId    891 non-null int64\n",
      "Survived       891 non-null int64\n",
      "Pclass         891 non-null int64\n",
      "Name           891 non-null object\n",
      "Sex            891 non-null object\n",
      "Age            714 non-null float64\n",
      "SibSp          891 non-null int64\n",
      "Parch          891 non-null int64\n",
      "Ticket         891 non-null object\n",
      "Fare           891 non-null float64\n",
      "Cabin          204 non-null object\n",
      "Embarked       889 non-null object\n",
      "dtypes: float64(2), int64(5), object(5)\n",
      "memory usage: 83.7+ KB\n"
     ]
    }
   ],
   "source": [
    "df = pd.read_csv('train.csv')\n",
    "\n",
    "# 請查看df.info()\n",
    "# 並找出共有幾種型別，以及哪一些欄位有null值\n",
    "#=============your works starts===============#\n",
    "df_info = df.info()\n",
    "#==============your works ends================#"
   ]
  },
  {
   "cell_type": "code",
   "execution_count": 3,
   "metadata": {},
   "outputs": [
    {
     "data": {
      "text/html": [
       "<div>\n",
       "<style scoped>\n",
       "    .dataframe tbody tr th:only-of-type {\n",
       "        vertical-align: middle;\n",
       "    }\n",
       "\n",
       "    .dataframe tbody tr th {\n",
       "        vertical-align: top;\n",
       "    }\n",
       "\n",
       "    .dataframe thead th {\n",
       "        text-align: right;\n",
       "    }\n",
       "</style>\n",
       "<table border=\"1\" class=\"dataframe\">\n",
       "  <thead>\n",
       "    <tr style=\"text-align: right;\">\n",
       "      <th></th>\n",
       "      <th>PassengerId</th>\n",
       "      <th>Survived</th>\n",
       "      <th>Pclass</th>\n",
       "      <th>Age</th>\n",
       "      <th>SibSp</th>\n",
       "      <th>Parch</th>\n",
       "      <th>Fare</th>\n",
       "    </tr>\n",
       "  </thead>\n",
       "  <tbody>\n",
       "    <tr>\n",
       "      <td>count</td>\n",
       "      <td>891.000000</td>\n",
       "      <td>891.000000</td>\n",
       "      <td>891.000000</td>\n",
       "      <td>714.000000</td>\n",
       "      <td>891.000000</td>\n",
       "      <td>891.000000</td>\n",
       "      <td>891.000000</td>\n",
       "    </tr>\n",
       "    <tr>\n",
       "      <td>mean</td>\n",
       "      <td>446.000000</td>\n",
       "      <td>0.383838</td>\n",
       "      <td>2.308642</td>\n",
       "      <td>29.699118</td>\n",
       "      <td>0.523008</td>\n",
       "      <td>0.381594</td>\n",
       "      <td>32.204208</td>\n",
       "    </tr>\n",
       "    <tr>\n",
       "      <td>std</td>\n",
       "      <td>257.353842</td>\n",
       "      <td>0.486592</td>\n",
       "      <td>0.836071</td>\n",
       "      <td>14.526497</td>\n",
       "      <td>1.102743</td>\n",
       "      <td>0.806057</td>\n",
       "      <td>49.693429</td>\n",
       "    </tr>\n",
       "    <tr>\n",
       "      <td>min</td>\n",
       "      <td>1.000000</td>\n",
       "      <td>0.000000</td>\n",
       "      <td>1.000000</td>\n",
       "      <td>0.420000</td>\n",
       "      <td>0.000000</td>\n",
       "      <td>0.000000</td>\n",
       "      <td>0.000000</td>\n",
       "    </tr>\n",
       "    <tr>\n",
       "      <td>25%</td>\n",
       "      <td>223.500000</td>\n",
       "      <td>0.000000</td>\n",
       "      <td>2.000000</td>\n",
       "      <td>20.125000</td>\n",
       "      <td>0.000000</td>\n",
       "      <td>0.000000</td>\n",
       "      <td>7.910400</td>\n",
       "    </tr>\n",
       "    <tr>\n",
       "      <td>50%</td>\n",
       "      <td>446.000000</td>\n",
       "      <td>0.000000</td>\n",
       "      <td>3.000000</td>\n",
       "      <td>28.000000</td>\n",
       "      <td>0.000000</td>\n",
       "      <td>0.000000</td>\n",
       "      <td>14.454200</td>\n",
       "    </tr>\n",
       "    <tr>\n",
       "      <td>75%</td>\n",
       "      <td>668.500000</td>\n",
       "      <td>1.000000</td>\n",
       "      <td>3.000000</td>\n",
       "      <td>38.000000</td>\n",
       "      <td>1.000000</td>\n",
       "      <td>0.000000</td>\n",
       "      <td>31.000000</td>\n",
       "    </tr>\n",
       "    <tr>\n",
       "      <td>max</td>\n",
       "      <td>891.000000</td>\n",
       "      <td>1.000000</td>\n",
       "      <td>3.000000</td>\n",
       "      <td>80.000000</td>\n",
       "      <td>8.000000</td>\n",
       "      <td>6.000000</td>\n",
       "      <td>512.329200</td>\n",
       "    </tr>\n",
       "  </tbody>\n",
       "</table>\n",
       "</div>"
      ],
      "text/plain": [
       "       PassengerId    Survived      Pclass         Age       SibSp  \\\n",
       "count   891.000000  891.000000  891.000000  714.000000  891.000000   \n",
       "mean    446.000000    0.383838    2.308642   29.699118    0.523008   \n",
       "std     257.353842    0.486592    0.836071   14.526497    1.102743   \n",
       "min       1.000000    0.000000    1.000000    0.420000    0.000000   \n",
       "25%     223.500000    0.000000    2.000000   20.125000    0.000000   \n",
       "50%     446.000000    0.000000    3.000000   28.000000    0.000000   \n",
       "75%     668.500000    1.000000    3.000000   38.000000    1.000000   \n",
       "max     891.000000    1.000000    3.000000   80.000000    8.000000   \n",
       "\n",
       "            Parch        Fare  \n",
       "count  891.000000  891.000000  \n",
       "mean     0.381594   32.204208  \n",
       "std      0.806057   49.693429  \n",
       "min      0.000000    0.000000  \n",
       "25%      0.000000    7.910400  \n",
       "50%      0.000000   14.454200  \n",
       "75%      0.000000   31.000000  \n",
       "max      6.000000  512.329200  "
      ]
     },
     "execution_count": 3,
     "metadata": {},
     "output_type": "execute_result"
    }
   ],
   "source": [
    "# 請查看df.describe()\n",
    "# 請透過mean關注每一個變數的scale\n",
    "#=============your works starts===============#\n",
    "df_describe = df.describe()\n",
    "#==============your works ends================#\n",
    "df_describe"
   ]
  },
  {
   "cell_type": "code",
   "execution_count": 4,
   "metadata": {},
   "outputs": [
    {
     "data": {
      "text/html": [
       "<div>\n",
       "<style scoped>\n",
       "    .dataframe tbody tr th:only-of-type {\n",
       "        vertical-align: middle;\n",
       "    }\n",
       "\n",
       "    .dataframe tbody tr th {\n",
       "        vertical-align: top;\n",
       "    }\n",
       "\n",
       "    .dataframe thead th {\n",
       "        text-align: right;\n",
       "    }\n",
       "</style>\n",
       "<table border=\"1\" class=\"dataframe\">\n",
       "  <thead>\n",
       "    <tr style=\"text-align: right;\">\n",
       "      <th></th>\n",
       "      <th>PassengerId</th>\n",
       "      <th>Survived</th>\n",
       "      <th>Pclass</th>\n",
       "      <th>Name</th>\n",
       "      <th>Sex</th>\n",
       "      <th>Age</th>\n",
       "      <th>SibSp</th>\n",
       "      <th>Parch</th>\n",
       "      <th>Ticket</th>\n",
       "      <th>Fare</th>\n",
       "      <th>Cabin</th>\n",
       "      <th>Embarked</th>\n",
       "    </tr>\n",
       "  </thead>\n",
       "  <tbody>\n",
       "    <tr>\n",
       "      <td>0</td>\n",
       "      <td>1</td>\n",
       "      <td>0</td>\n",
       "      <td>3</td>\n",
       "      <td>Braund, Mr. Owen Harris</td>\n",
       "      <td>male</td>\n",
       "      <td>22.0</td>\n",
       "      <td>1</td>\n",
       "      <td>0</td>\n",
       "      <td>A/5 21171</td>\n",
       "      <td>7.2500</td>\n",
       "      <td>NaN</td>\n",
       "      <td>S</td>\n",
       "    </tr>\n",
       "    <tr>\n",
       "      <td>1</td>\n",
       "      <td>2</td>\n",
       "      <td>1</td>\n",
       "      <td>1</td>\n",
       "      <td>Cumings, Mrs. John Bradley (Florence Briggs Th...</td>\n",
       "      <td>female</td>\n",
       "      <td>38.0</td>\n",
       "      <td>1</td>\n",
       "      <td>0</td>\n",
       "      <td>PC 17599</td>\n",
       "      <td>71.2833</td>\n",
       "      <td>C85</td>\n",
       "      <td>C</td>\n",
       "    </tr>\n",
       "    <tr>\n",
       "      <td>2</td>\n",
       "      <td>3</td>\n",
       "      <td>1</td>\n",
       "      <td>3</td>\n",
       "      <td>Heikkinen, Miss. Laina</td>\n",
       "      <td>female</td>\n",
       "      <td>26.0</td>\n",
       "      <td>0</td>\n",
       "      <td>0</td>\n",
       "      <td>STON/O2. 3101282</td>\n",
       "      <td>7.9250</td>\n",
       "      <td>NaN</td>\n",
       "      <td>S</td>\n",
       "    </tr>\n",
       "    <tr>\n",
       "      <td>3</td>\n",
       "      <td>4</td>\n",
       "      <td>1</td>\n",
       "      <td>1</td>\n",
       "      <td>Futrelle, Mrs. Jacques Heath (Lily May Peel)</td>\n",
       "      <td>female</td>\n",
       "      <td>35.0</td>\n",
       "      <td>1</td>\n",
       "      <td>0</td>\n",
       "      <td>113803</td>\n",
       "      <td>53.1000</td>\n",
       "      <td>C123</td>\n",
       "      <td>S</td>\n",
       "    </tr>\n",
       "    <tr>\n",
       "      <td>4</td>\n",
       "      <td>5</td>\n",
       "      <td>0</td>\n",
       "      <td>3</td>\n",
       "      <td>Allen, Mr. William Henry</td>\n",
       "      <td>male</td>\n",
       "      <td>35.0</td>\n",
       "      <td>0</td>\n",
       "      <td>0</td>\n",
       "      <td>373450</td>\n",
       "      <td>8.0500</td>\n",
       "      <td>NaN</td>\n",
       "      <td>S</td>\n",
       "    </tr>\n",
       "  </tbody>\n",
       "</table>\n",
       "</div>"
      ],
      "text/plain": [
       "   PassengerId  Survived  Pclass  \\\n",
       "0            1         0       3   \n",
       "1            2         1       1   \n",
       "2            3         1       3   \n",
       "3            4         1       1   \n",
       "4            5         0       3   \n",
       "\n",
       "                                                Name     Sex   Age  SibSp  \\\n",
       "0                            Braund, Mr. Owen Harris    male  22.0      1   \n",
       "1  Cumings, Mrs. John Bradley (Florence Briggs Th...  female  38.0      1   \n",
       "2                             Heikkinen, Miss. Laina  female  26.0      0   \n",
       "3       Futrelle, Mrs. Jacques Heath (Lily May Peel)  female  35.0      1   \n",
       "4                           Allen, Mr. William Henry    male  35.0      0   \n",
       "\n",
       "   Parch            Ticket     Fare Cabin Embarked  \n",
       "0      0         A/5 21171   7.2500   NaN        S  \n",
       "1      0          PC 17599  71.2833   C85        C  \n",
       "2      0  STON/O2. 3101282   7.9250   NaN        S  \n",
       "3      0            113803  53.1000  C123        S  \n",
       "4      0            373450   8.0500   NaN        S  "
      ]
     },
     "execution_count": 4,
     "metadata": {},
     "output_type": "execute_result"
    }
   ],
   "source": [
    "#請透過head()查看df的頭5行\n",
    "#=============your works starts===============#\n",
    "df_head = df.head()\n",
    "#==============your works ends================#\n",
    "\n",
    "df_head"
   ]
  },
  {
   "cell_type": "markdown",
   "metadata": {},
   "source": [
    "# PREPROCESSING"
   ]
  },
  {
   "cell_type": "markdown",
   "metadata": {},
   "source": [
    "## Age - Fill in missing values"
   ]
  },
  {
   "cell_type": "markdown",
   "metadata": {},
   "source": [
    "## np.Nan & None Detection\n",
    "```\n",
    "df['Age'][888] == None => False\n",
    "df['Age'][888] is None => False\n",
    "df['Age'][888] == np.nan => False\n",
    "df['Age'][888] is np.nan => False\n",
    "None == None => True\n",
    "None is None => True\n",
    "np.nan == np.nan => False\n",
    "np.nan is np.nan => True\n",
    "pd.isnull(np.nan) => True\n",
    "pd.isnull(None) => True\n",
    "pd.notnull(np.nan) => False\n",
    "pd.notnull(None) => False\n",
    "np.isnan(np.nan) => True\n",
    "np.isnan(None) => ERROR\n",
    "```\n",
    "\n",
    "# conclusion\n",
    "    - np.isnan or pd.isnull can be used all the time\n",
    "    - == None cannot detect np.nan\n"
   ]
  },
  {
   "cell_type": "code",
   "execution_count": 5,
   "metadata": {},
   "outputs": [
    {
     "name": "stderr",
     "output_type": "stream",
     "text": [
      "C:\\Users\\Student\\Projects\\IIIMaterial\\venv\\lib\\site-packages\\ipykernel_launcher.py:3: FutureWarning: `Series.plot()` should not be called with positional arguments, only keyword arguments. The order of positional arguments will change in the future. Use `Series.plot(kind='hist')` instead of `Series.plot('hist',)`.\n",
      "  This is separate from the ipykernel package so we can avoid doing imports until\n"
     ]
    },
    {
     "data": {
      "image/png": "[encoded data removed]",
      "text/plain": [
       "<Figure size 432x288 with 1 Axes>"
      ]
     },
     "metadata": {
      "needs_background": "light"
     },
     "output_type": "display_data"
    }
   ],
   "source": [
    "# 查看Age的分布狀況(hint: plot(), kind='hist')\n",
    "#=============your works starts===============#\n",
    "age_ax = df['Age'].plot('hist')\n",
    "#==============your works ends================#\n",
    "\n",
    "plt.show()"
   ]
  },
  {
   "cell_type": "markdown",
   "metadata": {},
   "source": [
    "## mean calculation\n",
    "```\n",
    "df['Age'].mean() # pandas default mean\n",
    "np.mean(df['Age']) # numpy mean apply on series (exclude nan)\n",
    "np.mean(df['Age'].values) # numpy mean apply on numpy array (include nan)\n",
    "np.nanmean(df['Age'].values) # numpy mean apply on numpy array (exclude nan)\n",
    "np.mean(df.loc[pd.notnull(df['Age']), 'Age']) # numpy mean apply on series exclude nan explicitly\n",
    "```"
   ]
  },
  {
   "cell_type": "code",
   "execution_count": 6,
   "metadata": {},
   "outputs": [
    {
     "name": "stdout",
     "output_type": "stream",
     "text": [
      "avg_age 29.69911764705882\n"
     ]
    }
   ],
   "source": [
    "# 作法一: 取平均值\n",
    "#=============your works starts===============#\n",
    "avg_age = df['Age'].mean() \n",
    "#==============your works ends================#\n",
    "\n",
    "\n",
    "print(\"avg_age\", avg_age) \n",
    "# avg_age 29.69911764705882"
   ]
  },
  {
   "cell_type": "code",
   "execution_count": 7,
   "metadata": {},
   "outputs": [
    {
     "name": "stdout",
     "output_type": "stream",
     "text": [
      "median_age 28.0\n"
     ]
    }
   ],
   "source": [
    "# 作法二: 取中位數\n",
    "#=============your works starts===============#\n",
    "median_age = df['Age'].median()\n",
    "#==============your works ends================#\n",
    "\n",
    "\n",
    "print(\"median_age\", median_age) \n",
    "# median_age 28.0"
   ]
  },
  {
   "cell_type": "code",
   "execution_count": 8,
   "metadata": {
    "scrolled": true
   },
   "outputs": [
    {
     "name": "stdout",
     "output_type": "stream",
     "text": [
      "random_age [23 41 37 17 31 20 28 24 16 42 33 19 22 20 29 15 32 16 35 40 35 34 26 27\n",
      " 37 28 30 23 31 33 42 30 25 21 29 15 21 16 39 39 21 31 31 37 31 30 23 41\n",
      " 30 35 33 21 31 28 39 37 31 29 29 40 16 43 20 29 36 22 27 41 32 24 35 23\n",
      " 29 43 33 43 31 34 34 28 27 40 29 35 27 20 40 37 16 29 29 39 20 17 20 35\n",
      " 24 42 34 33 26 38 42 31 30 40 34 16 35 16 34 24 43 29 22 29 20 43 29 38\n",
      " 37 39 35 42 40 19 32 17 25 36 15 26 31 23 19 24 34 39 39 19 17 28 16 35\n",
      " 20 16 29 18 34 43 16 28 30 42 27 25 36 19 22 43 37 38 30 15 32 38 41 21\n",
      " 26 33 20 19 21 29 40 30 28]\n",
      "len(random_age) 177\n"
     ]
    }
   ],
   "source": [
    "# 作法三: 用相同的分布產生亂數塞入(hint:使用np.random.randint, min: mean - std, max: mean + std)\n",
    "np.random.seed(1212)\n",
    "#=============your works starts===============#\n",
    "std = df['Age'].std()\n",
    "mean = df['Age'].mean()\n",
    "size = sum(pd.isnull(df['Age']))\n",
    "random_age = np.random.randint(mean - std, mean + std, size=size)\n",
    "#==============your works ends================#\n",
    "\n",
    "\n",
    "print(\"random_age\", random_age) \n",
    "print(\"len(random_age)\", len(random_age)) \n",
    "# random_age [23 41 37 17 31 20 28 24 16 42 33 19 22 20 29 15 32 16 35 40 35 34 26 27\n",
    "# len(random_age) 177"
   ]
  },
  {
   "cell_type": "code",
   "execution_count": 9,
   "metadata": {
    "scrolled": true
   },
   "outputs": [
    {
     "data": {
      "text/html": [
       "<div>\n",
       "<style scoped>\n",
       "    .dataframe tbody tr th:only-of-type {\n",
       "        vertical-align: middle;\n",
       "    }\n",
       "\n",
       "    .dataframe tbody tr th {\n",
       "        vertical-align: top;\n",
       "    }\n",
       "\n",
       "    .dataframe thead th {\n",
       "        text-align: right;\n",
       "    }\n",
       "</style>\n",
       "<table border=\"1\" class=\"dataframe\">\n",
       "  <thead>\n",
       "    <tr style=\"text-align: right;\">\n",
       "      <th></th>\n",
       "      <th>avg_age</th>\n",
       "      <th>median_age</th>\n",
       "      <th>random_age</th>\n",
       "    </tr>\n",
       "  </thead>\n",
       "  <tbody>\n",
       "    <tr>\n",
       "      <td>5</td>\n",
       "      <td>29.699118</td>\n",
       "      <td>28.0</td>\n",
       "      <td>23.0</td>\n",
       "    </tr>\n",
       "    <tr>\n",
       "      <td>17</td>\n",
       "      <td>29.699118</td>\n",
       "      <td>28.0</td>\n",
       "      <td>41.0</td>\n",
       "    </tr>\n",
       "    <tr>\n",
       "      <td>19</td>\n",
       "      <td>29.699118</td>\n",
       "      <td>28.0</td>\n",
       "      <td>37.0</td>\n",
       "    </tr>\n",
       "    <tr>\n",
       "      <td>26</td>\n",
       "      <td>29.699118</td>\n",
       "      <td>28.0</td>\n",
       "      <td>17.0</td>\n",
       "    </tr>\n",
       "    <tr>\n",
       "      <td>28</td>\n",
       "      <td>29.699118</td>\n",
       "      <td>28.0</td>\n",
       "      <td>31.0</td>\n",
       "    </tr>\n",
       "  </tbody>\n",
       "</table>\n",
       "</div>"
      ],
      "text/plain": [
       "      avg_age  median_age  random_age\n",
       "5   29.699118        28.0        23.0\n",
       "17  29.699118        28.0        41.0\n",
       "19  29.699118        28.0        37.0\n",
       "26  29.699118        28.0        17.0\n",
       "28  29.699118        28.0        31.0"
      ]
     },
     "execution_count": 9,
     "metadata": {},
     "output_type": "execute_result"
    }
   ],
   "source": [
    "df['avg_age'] = df['Age']\n",
    "df.loc[pd.isnull(df['Age']), 'avg_age'] = avg_age\n",
    "df['median_age'] = df['Age']\n",
    "df.loc[pd.isnull(df['Age']), 'median_age'] = median_age\n",
    "df['random_age'] = df['Age']\n",
    "df.loc[pd.isnull(df['Age']), 'random_age'] = random_age\n",
    "\n",
    "df.loc[pd.isnull(df['Age']), ['avg_age', 'median_age', 'random_age']].head()"
   ]
  },
  {
   "cell_type": "markdown",
   "metadata": {},
   "source": [
    "## Age - Normalize\n",
    "- L1 Normalization: \n",
    "    - $|| x ||_1 = \\sum_i |x_i| = |x_1| + |x_2| + \\ldots + |x_i|$\n",
    "    - $\\|𝑥\\|_{1𝑖} = \\dfrac{𝑥_𝑖}{\\sum{|𝑥_𝑖|}}$\n",
    "- L2 Normalization: \n",
    "    - $|| x ||_2 = \\sqrt{\\left(\\sum_i x_i^2\\right)} = \\sqrt{x_1^2 + x_2^2 + \\ldots + x_i^2}$\n",
    "    - $\\|𝑥\\|_{2𝑖}=\\dfrac{𝑥_𝑖}{\\sqrt{(\\sum{𝑥_𝑖^2)}}}$\n",
    "- Normalization to 0~1: \n",
    "    - $\\|𝑥\\|_{01i}=\\dfrac{𝑥_𝑖 - \\min(x)}{\\max(x) - \\min(x)}$\n",
    "\n",
    "- difference\n",
    "![l1_l2_norm](./imgs/l1_l2_norm.png)\n",
    "![normalize_dif](./imgs/normalize_dif.jpg)\n",
    "\n",
    "- quote\n",
    "> L1是蓝色的线，L2是红色的线，很明显，L1的分布对极端值更能容忍。那么如果数据损失项使用L1 Norm，很明显，L1 Norm对outlier没有L2 Norm那么敏感；如果正则化损失项使用L1的话，那么使学习到的参数倾向于稀疏，使用L2 Norm则没有这种倾向。\n",
    "> \n",
    "> 实践中，根据Quaro的data scientist Xavier Amatriain 的经验，实际应用过程中，L1 nrom几乎没有比L2 norm表现好的时候，优先使用L2 norm是比较好的选择。\n",
    "> \n",
    "> \n",
    "> 作者：知乎用户\n",
    "> 链接：https://www.zhihu.com/question/26485586/answer/89215997\n",
    "> 来源：知乎\n",
    "> 著作权归作者所有。商业转载请联系作者获得授权，非商业转载请注明出处。"
   ]
  },
  {
   "cell_type": "code",
   "execution_count": 10,
   "metadata": {},
   "outputs": [
    {
     "name": "stdout",
     "output_type": "stream",
     "text": [
      "[[ 0.125 -0.125  0.25 ]\n",
      " [ 0.25   0.     0.   ]\n",
      " [ 0.     0.125 -0.125]]\n"
     ]
    }
   ],
   "source": [
    "# 請寫出L1 Normaliaze的function(np.abs, np.sum)\n",
    "def normalize_l1(X):\n",
    "    \"\"\"if type(X) == np.array, and X has two dimensiions\"\"\"\n",
    "    #=============your works starts===============#\n",
    "    l1_x = np.sum(np.abs(X))\n",
    "    X = X / l1_x\n",
    "    #==============your works ends================#\n",
    "    return X\n",
    "\n",
    "X = [[ 1., -1.,  2.],\n",
    "     [ 2.,  0.,  0.],\n",
    "     [ 0.,  1., -1.]]\n",
    "X_norm_l1 = normalize_l1(X)\n",
    "print(X_norm_l1)\n",
    "# [[ 0.125 -0.125  0.25 ]\n",
    "#  [ 0.25   0.     0.   ]\n",
    "#  [ 0.     0.125 -0.125]]"
   ]
  },
  {
   "cell_type": "code",
   "execution_count": 11,
   "metadata": {},
   "outputs": [
    {
     "name": "stdout",
     "output_type": "stream",
     "text": [
      "[[ 0.28867513 -0.28867513  0.57735027]\n",
      " [ 0.57735027  0.          0.        ]\n",
      " [ 0.          0.28867513 -0.28867513]]\n"
     ]
    }
   ],
   "source": [
    "# 請寫出L2 Normaliaze的function(np.square, np.sum, np.sqrt)\n",
    "def normalize_l2(X):\n",
    "    \"\"\"if type(X) == np.array, and X has two dimensiions\"\"\"\n",
    "    #=============your works starts===============#\n",
    "    l2_x = np.sqrt(np.sum(np.square(X)))\n",
    "    X = X / l2_x\n",
    "    #==============your works ends================#\n",
    "    return X\n",
    "\n",
    "X_norm_l2 = normalize_l2(X)\n",
    "print(X_norm_l2)\n",
    "# [[ 0.28867513 -0.28867513  0.57735027]\n",
    "#  [ 0.57735027  0.          0.        ]\n",
    "#  [ 0.          0.28867513 -0.28867513]]"
   ]
  },
  {
   "cell_type": "code",
   "execution_count": 12,
   "metadata": {},
   "outputs": [
    {
     "name": "stdout",
     "output_type": "stream",
     "text": [
      "[[0.66666667 0.         1.        ]\n",
      " [1.         0.33333333 0.33333333]\n",
      " [0.33333333 0.66666667 0.        ]]\n"
     ]
    }
   ],
   "source": [
    "# 請寫出normalize_to_01的function(np.max, np.min)\n",
    "def normalize_to_01(X):\n",
    "    \"\"\"if type(X) == np.array, and X has two dimensiions\"\"\"\n",
    "    #=============your works starts===============#\n",
    "    min_x = np.min(X)\n",
    "    max_x = np.max(X)\n",
    "    X = (X - min_x) / (max_x - min_x)\n",
    "    #==============your works ends================#\n",
    "    return X\n",
    "\n",
    "X_norm_01 = normalize_to_01(X)\n",
    "print(X_norm_01)\n",
    "# [[ 0.66666667  0.          1.        ]\n",
    "#  [ 1.          0.33333333  0.33333333]\n",
    "#  [ 0.33333333  0.66666667  0.        ]"
   ]
  },
  {
   "cell_type": "code",
   "execution_count": 13,
   "metadata": {},
   "outputs": [
    {
     "name": "stdout",
     "output_type": "stream",
     "text": [
      "[[ 0.125 -0.125  0.25 ]\n",
      " [ 0.25   0.     0.   ]\n",
      " [ 0.     0.125 -0.125]]\n",
      "[[ 0.25 -0.25  0.5 ]\n",
      " [ 1.    0.    0.  ]\n",
      " [ 0.    0.5  -0.5 ]]\n"
     ]
    }
   ],
   "source": [
    "X = [[ 1., -1.,  2.],\n",
    "     [ 2.,  0.,  0.],\n",
    "     [ 0.,  1., -1.]]\n",
    "\n",
    "# 請使用preprocessing.normalize(X, norm='l1')比較，與我們自己寫的normalize function有什麼不同\n",
    "#=============your works starts===============#\n",
    "X_normalized_self = normalize_l1(X)\n",
    "X_normalized_sklearn = preprocessing.normalize(X, norm='l1')\n",
    "#==============your works ends================#\n",
    "\n",
    "print(X_normalized_self)\n",
    "print(X_normalized_sklearn)\n",
    "# sklearn l1_norm\n",
    "# [[ 0.25 -0.25  0.5 ]\n",
    "#  [ 1.    0.    0.  ]\n",
    "#  [ 0.    0.5  -0.5 ]]\n"
   ]
  },
  {
   "cell_type": "code",
   "execution_count": 14,
   "metadata": {},
   "outputs": [
    {
     "name": "stdout",
     "output_type": "stream",
     "text": [
      "[[1.0, -1.0, 2.0], [2.0, 0.0, 0.0], [0.0, 1.0, -1.0]]\n",
      "[[ 0.125 -0.125  0.25 ]\n",
      " [ 0.25   0.     0.   ]\n",
      " [ 0.     0.125 -0.125]]\n",
      "[[ 0.28867513 -0.28867513  0.57735027]\n",
      " [ 0.57735027  0.          0.        ]\n",
      " [ 0.          0.28867513 -0.28867513]]\n",
      "[[0.66666667 0.         1.        ]\n",
      " [1.         0.33333333 0.33333333]\n",
      " [0.33333333 0.66666667 0.        ]]\n"
     ]
    }
   ],
   "source": [
    "print(X[:10])\n",
    "print(X_norm_l1[:10])\n",
    "print(X_norm_l2[:10])\n",
    "print(X_norm_01[:10])"
   ]
  },
  {
   "cell_type": "code",
   "execution_count": 15,
   "metadata": {},
   "outputs": [],
   "source": [
    "# X = np.random.normal(size=100000)\n",
    "# X_norm_l1 = normalize_l1(X)\n",
    "# X_norm_l2 = normalize_l2(X)\n",
    "# fig, (ax1, ax2, ax3) = plt.subplots(3, 1, figsize=(5, 10))\n",
    "\n",
    "# ax1.hist(X, bins=60, alpha=0.5, histtype='step', label='X')\n",
    "# ax2.hist(X_norm_l1, bins=60, alpha=0.5, histtype='step', label='X_norm_l1')\n",
    "# ax3.hist(X_norm_l2, bins=60, alpha=0.5, histtype='step', label='X_norm_l2')\n",
    "# plt.show()"
   ]
  },
  {
   "cell_type": "code",
   "execution_count": 16,
   "metadata": {},
   "outputs": [
    {
     "data": {
      "text/html": [
       "<div>\n",
       "<style scoped>\n",
       "    .dataframe tbody tr th:only-of-type {\n",
       "        vertical-align: middle;\n",
       "    }\n",
       "\n",
       "    .dataframe tbody tr th {\n",
       "        vertical-align: top;\n",
       "    }\n",
       "\n",
       "    .dataframe thead th {\n",
       "        text-align: right;\n",
       "    }\n",
       "</style>\n",
       "<table border=\"1\" class=\"dataframe\">\n",
       "  <thead>\n",
       "    <tr style=\"text-align: right;\">\n",
       "      <th></th>\n",
       "      <th>avg_age</th>\n",
       "      <th>avg_age_l1</th>\n",
       "      <th>avg_age_l2</th>\n",
       "      <th>avg_age_01</th>\n",
       "    </tr>\n",
       "  </thead>\n",
       "  <tbody>\n",
       "    <tr>\n",
       "      <td>0</td>\n",
       "      <td>22.0</td>\n",
       "      <td>0.000831</td>\n",
       "      <td>0.022735</td>\n",
       "      <td>0.271174</td>\n",
       "    </tr>\n",
       "    <tr>\n",
       "      <td>1</td>\n",
       "      <td>38.0</td>\n",
       "      <td>0.001436</td>\n",
       "      <td>0.039270</td>\n",
       "      <td>0.472229</td>\n",
       "    </tr>\n",
       "    <tr>\n",
       "      <td>2</td>\n",
       "      <td>26.0</td>\n",
       "      <td>0.000983</td>\n",
       "      <td>0.026869</td>\n",
       "      <td>0.321438</td>\n",
       "    </tr>\n",
       "    <tr>\n",
       "      <td>3</td>\n",
       "      <td>35.0</td>\n",
       "      <td>0.001323</td>\n",
       "      <td>0.036170</td>\n",
       "      <td>0.434531</td>\n",
       "    </tr>\n",
       "    <tr>\n",
       "      <td>4</td>\n",
       "      <td>35.0</td>\n",
       "      <td>0.001323</td>\n",
       "      <td>0.036170</td>\n",
       "      <td>0.434531</td>\n",
       "    </tr>\n",
       "  </tbody>\n",
       "</table>\n",
       "</div>"
      ],
      "text/plain": [
       "   avg_age  avg_age_l1  avg_age_l2  avg_age_01\n",
       "0     22.0    0.000831    0.022735    0.271174\n",
       "1     38.0    0.001436    0.039270    0.472229\n",
       "2     26.0    0.000983    0.026869    0.321438\n",
       "3     35.0    0.001323    0.036170    0.434531\n",
       "4     35.0    0.001323    0.036170    0.434531"
      ]
     },
     "execution_count": 16,
     "metadata": {},
     "output_type": "execute_result"
    }
   ],
   "source": [
    "avg_age_l1 = normalize_l1(df['avg_age'].values)\n",
    "avg_age_l2 = normalize_l2(df['avg_age'].values)\n",
    "avg_age_01 = normalize_to_01(df['avg_age'].values)\n",
    "\n",
    "df['avg_age_l1'] = avg_age_l1\n",
    "df['avg_age_l2'] = avg_age_l2\n",
    "df['avg_age_01'] = avg_age_01\n",
    "\n",
    "df[['avg_age', 'avg_age_l1', 'avg_age_l2', 'avg_age_01']].head()\n"
   ]
  },
  {
   "cell_type": "code",
   "execution_count": 17,
   "metadata": {},
   "outputs": [
    {
     "data": {
      "image/png": "[encoded data removed]",
      "text/plain": [
       "<Figure size 720x720 with 4 Axes>"
      ]
     },
     "metadata": {
      "needs_background": "light"
     },
     "output_type": "display_data"
    }
   ],
   "source": [
    "fig, ((ax1, ax2), (ax3, ax4)) = plt.subplots(2, 2, figsize=(10, 10))\n",
    "df['avg_age'].plot(kind='hist', ax=ax1)\n",
    "ax1.set_title('avg_age')\n",
    "df['avg_age_l1'].plot(kind='hist', ax=ax2)\n",
    "ax2.set_title('avg_age_l1')\n",
    "df['avg_age_l2'].plot(kind='hist', ax=ax3)\n",
    "ax3.set_title('avg_age_l2')\n",
    "df['avg_age_01'].plot(kind='hist', ax=ax4)\n",
    "ax4.set_title('avg_age_01')\n",
    "plt.show()"
   ]
  },
  {
   "cell_type": "code",
   "execution_count": 18,
   "metadata": {},
   "outputs": [
    {
     "data": {
      "image/png": "[encoded data removed]",
      "text/plain": [
       "<Figure size 432x288 with 1 Axes>"
      ]
     },
     "metadata": {
      "needs_background": "light"
     },
     "output_type": "display_data"
    }
   ],
   "source": [
    "# X = df[['avg_age', 'avg_age_l1']].values\n",
    "plt.scatter(df['avg_age'], df['avg_age_l1'], label='avg_age_l1')\n",
    "plt.scatter(df['avg_age'], df['avg_age_l2'], label='avg_age_l2')\n",
    "plt.scatter(df['avg_age'], df['avg_age_01'], label='avg_age_01')\n",
    "plt.legend()\n",
    "plt.show()"
   ]
  },
  {
   "cell_type": "markdown",
   "metadata": {},
   "source": [
    "## Cabin - NLP category"
   ]
  },
  {
   "cell_type": "code",
   "execution_count": null,
   "metadata": {},
   "outputs": [],
   "source": [
    "# 整理出每一個Cabin的個數並排序(hint:Counter(), sorted())\n",
    "# 1. 使用Counter計算個別item出現的次數\n",
    "# 2. 使用items上dict變成list(可排序)\n",
    "# 3. sorted 對list中每一item的第一個ELEMENT進行排序\n",
    "# 4. 設定reverse參數\n",
    "#=============your works starts===============#\n",
    "sorted_cabin_counter = sorted(Counter(df['Cabin'].astype(str)).items(), key=lambda x:x[1], reverse=True)\n",
    "#==============your works ends================#\n",
    "\n",
    "\n",
    "print(sorted_cabin_counter[:10])\n",
    "# [('nan', 687), ('G6', 4), ('C23 C25 C27', 4), ('B96 B98', 4), ('F33', 3), ('E101', 3), ('F2', 3), ('D', 3), ('C22 C26', 3), ('C123', 2)]"
   ]
  },
  {
   "cell_type": "code",
   "execution_count": 21,
   "metadata": {},
   "outputs": [
    {
     "name": "stdout",
     "output_type": "stream",
     "text": [
      "{0: 'A', 1: 'B', 2: 'C'}\n"
     ]
    }
   ],
   "source": [
    "test_arr = [\"A\", \"B\", \"C\"]\n",
    "\n",
    "# enumerate的用法: 替test_arr寫上編號，並轉換成dict型別\n",
    "#=============your works starts===============#\n",
    "enumerate_res = dict([(idx, value) for idx, value in enumerate(test_arr)])\n",
    "#==============your works ends================#\n",
    "\n",
    "print(enumerate_res)"
   ]
  },
  {
   "cell_type": "code",
   "execution_count": 22,
   "metadata": {},
   "outputs": [],
   "source": [
    "# test_arr = pd.Series([\"A\", \"B\", \"C\", \"A\", \"D\", \"F\", \"B\"])\n",
    "# test_dict = dict([(value, key) for key, value in list(enumerate(sorted(set(test_arr))))])\n",
    "# test_arr.apply(test_dict.get)"
   ]
  },
  {
   "cell_type": "code",
   "execution_count": 23,
   "metadata": {},
   "outputs": [
    {
     "name": "stdout",
     "output_type": "stream",
     "text": [
      "['n' 'c' 'n' 'c' 'n' 'n' 'e' 'n' 'n' 'n']\n",
      "{'c': 0, 'n': 1, 'g': 2, 'b': 3, 't': 4, 'e': 5, 'd': 6, 'f': 7, 'a': 8}\n",
      "[1 0 1 0 1 1 5 1 1 1]\n"
     ]
    }
   ],
   "source": [
    "# 抓出第一個char出來分類，並轉成int類別(hint: enumerate)\n",
    "# new_Cabin: 抓出第一個char，轉str，轉小寫 (1.轉換成str型別 2.用apply找到cabin中的第一個char並轉小寫 3.指派到新的變數)\n",
    "# mapping_dict: 找到每個開頭char所屬的編號 (1.取不重複的 2.轉成可排序的 3.排序 4.列舉 5.用for loop 展開generator 6.把key跟value對調 7.轉換成dict型別 8.指派到新的變數)\n",
    "# new_Cabin_int: 將char轉換成編號 (1.測試mapping_dict的索引功能('a' => 0) 2.用new_Cabin的apply去索引其編號 (lambda, mapping_dict) 3.用values轉換成np.array()型別)\n",
    "#=============your works starts===============#\n",
    "# new_Cabin = [cabin[0].lower() for cabin in df['Cabin'].astype(str)]\n",
    "new_Cabin = df['Cabin'].astype(str).apply(lambda x:x[0].lower())\n",
    "mapping_dict = dict([(value, key) for (key, value) in enumerate(sorted(list(set(new_Cabin))))])\n",
    "new_Cabin_int = new_Cabin.apply(lambda x:mapping_dict[x]).values\n",
    "#==============your works ends================#\n",
    "\n",
    "\n",
    "print(new_Cabin.values[:10])\n",
    "print(mapping_dict)\n",
    "print(new_Cabin_int[:10])\n",
    "# ['n' 'c' 'n' 'c' 'n' 'n' 'e' 'n' 'n' 'n']\n",
    "# {'e': 0, 'f': 1, 'd': 2, 't': 3, 'c': 4, 'n': 5, 'b': 6, 'g': 7, 'a': 8}\n",
    "# [5 4 5 4 5 5 0 5 5 5]"
   ]
  },
  {
   "cell_type": "code",
   "execution_count": 24,
   "metadata": {},
   "outputs": [
    {
     "data": {
      "text/html": [
       "<div>\n",
       "<style scoped>\n",
       "    .dataframe tbody tr th:only-of-type {\n",
       "        vertical-align: middle;\n",
       "    }\n",
       "\n",
       "    .dataframe tbody tr th {\n",
       "        vertical-align: top;\n",
       "    }\n",
       "\n",
       "    .dataframe thead th {\n",
       "        text-align: right;\n",
       "    }\n",
       "</style>\n",
       "<table border=\"1\" class=\"dataframe\">\n",
       "  <thead>\n",
       "    <tr style=\"text-align: right;\">\n",
       "      <th></th>\n",
       "      <th>Cabin</th>\n",
       "      <th>cabin_cat</th>\n",
       "    </tr>\n",
       "  </thead>\n",
       "  <tbody>\n",
       "    <tr>\n",
       "      <th>0</th>\n",
       "      <td>NaN</td>\n",
       "      <td>1</td>\n",
       "    </tr>\n",
       "    <tr>\n",
       "      <th>1</th>\n",
       "      <td>C85</td>\n",
       "      <td>0</td>\n",
       "    </tr>\n",
       "    <tr>\n",
       "      <th>2</th>\n",
       "      <td>NaN</td>\n",
       "      <td>1</td>\n",
       "    </tr>\n",
       "    <tr>\n",
       "      <th>3</th>\n",
       "      <td>C123</td>\n",
       "      <td>0</td>\n",
       "    </tr>\n",
       "    <tr>\n",
       "      <th>4</th>\n",
       "      <td>NaN</td>\n",
       "      <td>1</td>\n",
       "    </tr>\n",
       "  </tbody>\n",
       "</table>\n",
       "</div>"
      ],
      "text/plain": [
       "  Cabin  cabin_cat\n",
       "0   NaN          1\n",
       "1   C85          0\n",
       "2   NaN          1\n",
       "3  C123          0\n",
       "4   NaN          1"
      ]
     },
     "execution_count": 24,
     "metadata": {},
     "output_type": "execute_result"
    }
   ],
   "source": [
    "df['cabin_cat'] = new_Cabin_int\n",
    "df[['Cabin', 'cabin_cat']].head()"
   ]
  },
  {
   "cell_type": "markdown",
   "metadata": {},
   "source": [
    "## Sex - Category"
   ]
  },
  {
   "cell_type": "code",
   "execution_count": 25,
   "metadata": {},
   "outputs": [
    {
     "name": "stdout",
     "output_type": "stream",
     "text": [
      "Counter({'male': 577, 'female': 314})\n"
     ]
    }
   ],
   "source": [
    "# 請算出Sex共有幾個類別，每一個類別共出現幾次(hint:Counter)\n",
    "#=============your works starts===============#\n",
    "counter = Counter(df['Sex'])\n",
    "#==============your works ends================#\n",
    "\n",
    "\n",
    "print(counter)\n",
    "#Counter({'male': 577, 'female': 314})"
   ]
  },
  {
   "cell_type": "code",
   "execution_count": 26,
   "metadata": {},
   "outputs": [
    {
     "name": "stdout",
     "output_type": "stream",
     "text": [
      "Counter(sex_cat) Counter({0: 577, 1: 314})\n"
     ]
    }
   ],
   "source": [
    "# 創造出一個與df['Sex']等長的array，並將df['Sex']中的male換成1，female換成0\n",
    "#=============your works starts===============#\n",
    "sex_mapping = dict([(v, k) for k, v in enumerate(set(df['Sex'].astype(str)))])\n",
    "sex_cat = df['Sex'].apply(sex_mapping.get)\n",
    "#==============your works ends================#\n",
    "\n",
    "\n",
    "print(\"Counter(sex_cat)\", Counter(sex_cat))\n",
    "#Counter(sex_cat) Counter({1: 577, 0: 314})"
   ]
  },
  {
   "cell_type": "code",
   "execution_count": 27,
   "metadata": {},
   "outputs": [
    {
     "data": {
      "text/plain": [
       "Counter({0: 577, 1: 314})"
      ]
     },
     "execution_count": 27,
     "metadata": {},
     "output_type": "execute_result"
    }
   ],
   "source": [
    "df['sex_cat'] = sex_cat\n",
    "Counter(df['sex_cat'])"
   ]
  },
  {
   "cell_type": "markdown",
   "metadata": {
    "collapsed": true
   },
   "source": [
    "## Ticket - Category"
   ]
  },
  {
   "cell_type": "code",
   "execution_count": 28,
   "metadata": {
    "scrolled": true
   },
   "outputs": [
    {
     "name": "stdout",
     "output_type": "stream",
     "text": [
      "[('A/5 21171', 1), ('PC 17599', 1), ('STON/O2. 3101282', 1), ('373450', 1), ('330877', 1), ('17463', 1), ('113783', 1), ('A/5. 2151', 1), ('350406', 1), ('248706', 1), ('244373', 1), ('345763', 1), ('2649', 1), ('248698', 1), ('330923', 1), ('113788', 1), ('2631', 1), ('330959', 1), ('349216', 1), ('PC 17601', 1), ('335677', 1), ('C.A. 24579', 1), ('2677', 1), ('A./5. 2152', 1), ('7546', 1), ('349253', 1), ('330958', 1), ('S.C./A.4. 23567', 1), ('370371', 1), ('14311', 1), ('2662', 1), ('A/4. 39886', 1), ('2926', 1), ('113509', 1), ('19947', 1), ('C.A. 31026', 1), ('2697', 1), ('2669', 1), ('PC 17605', 1), ('C.A. 29395', 1), ('S.P. 3464', 1), ('3101281', 1), ('315151', 1), ('C.A. 33111', 1), ('2680', 1), ('348123', 1), ('349208', 1), ('374746', 1), ('345767', 1), ('345779', 1), ('330932', 1), ('113059', 1), ('SO/C 14885', 1), ('SOTON/OQ 392086', 1), ('343275', 1), ('343276', 1), ('347466', 1), ('W.E.P. 5734', 1), ('364500', 1), ('374910', 1), ('PC 17754', 1), ('PC 17759', 1), ('349245', 1), ('349215', 1), ('7540', 1), ('3101276', 1), ('349207', 1), ('343120', 1), ('312991', 1), ('349249', 1), ('324669', 1), ('4136', 1), ('STON/O 2. 3101294', 1), ('370369', 1), ('A4. 54510', 1), ('27267', 1), ('370372', 1), ('C 17369', 1), ('347061', 1), ('349241', 1), ('SOTON/O.Q. 3101307', 1), ('A/5. 3337', 1), ('228414', 1), ('C.A. 29178', 1), ('SC/PARIS 2133', 1), ('11752', 1), ('347081', 1), ('365222', 1), ('231945', 1), ('350043', 1), ('244310', 1), ('S.O.P. 1166', 1), ('A.5. 11206', 1), ('A/5. 851', 1), ('Fa 265302', 1), ('PC 17597', 1), ('35851', 1), ('SOTON/OQ 392090', 1), ('315037', 1), ('371362', 1), ('C.A. 33595', 1), ('347068', 1), ('315093', 1), ('PC 17318', 1), ('111240', 1), ('STON/O 2. 3101280', 1), ('17764', 1), ('350404', 1), ('PC 17595', 1), ('250653', 1), ('SC/PARIS 2131', 1), ('315153', 1), ('113767', 1), ('111428', 1), ('349247', 1), ('234604', 1), ('28424', 1), ('350046', 1), ('PC 17610', 1), ('368703', 1), ('4579', 1), ('370370', 1), ('248747', 1), ('345770', 1), ('3101264', 1), ('2628', 1), ('A/5 3540', 1), ('367231', 1), ('112277', 1), ('SOTON/O.Q. 3101311', 1), ('F.C.C. 13528', 1), ('A/5 21174', 1), ('250646', 1), ('367229', 1), ('STON/O2. 3101283', 1), ('11813', 1), ('W/C 14208', 1), ('SOTON/OQ 392089', 1), ('220367', 1), ('21440', 1), ('349234', 1), ('PP 4348', 1), ('SW/PP 751', 1), ('A/5 21173', 1), ('236171', 1), ('347067', 1), ('237442', 1), ('C.A. 29566', 1), ('W./C. 6609', 1), ('26707', 1), ('28665', 1), ('SCO/W 1585', 1), ('W./C. 14263', 1), ('STON/O 2. 3101275', 1), ('2694', 1), ('347071', 1), ('362316', 1), ('113514', 1), ('2650', 1), ('PC 17585', 1), ('384461', 1), ('112059', 1), ('382649', 1), ('C.A. 17248', 1), ('347083', 1), ('PC 17596', 1), ('370375', 1), ('347073', 1), ('336439', 1), ('347464', 1), ('345778', 1), ('A/5. 10482', 1), ('113056', 1), ('349239', 1), ('345774', 1), ('349206', 1), ('237798', 1), ('370373', 1), ('SC/Paris 2163', 1), ('349236', 1), ('349233', 1), ('PC 17612', 1), ('2693', 1), ('19988', 1), ('9234', 1), ('226593', 1), ('A/5 2466', 1), ('250651', 1), ('349243', 1), ('347470', 1), ('29011', 1), ('A/5 21172', 1), ('349219', 1), ('234818', 1), ('345364', 1), ('28551', 1), ('113043', 1), ('349225', 1), ('7598', 1), ('113784', 1), ('248740', 1), ('244361', 1), ('229236', 1), ('248733', 1), ('31418', 1), ('386525', 1), ('315088', 1), ('7267', 1), ('113510', 1), ('2695', 1), ('2647', 1), ('345783', 1), ('237671', 1), ('330931', 1), ('330980', 1), ('SC/PARIS 2167', 1), ('SOTON/O.Q. 3101310', 1), ('C 7076', 1), ('110813', 1), ('2626', 1), ('14313', 1), ('11765', 1), ('3101267', 1), ('323951', 1), ('C 7077', 1), ('113503', 1), ('2648', 1), ('347069', 1), ('STON/O 2. 3101293', 1), ('349227', 1), ('27849', 1), ('367655', 1), ('SC 1748', 1), ('350034', 1), ('3101277', 1), ('350052', 1), ('350407', 1), ('244278', 1), ('240929', 1), ('STON/O 2. 3101289', 1), ('341826', 1), ('4137', 1), ('315096', 1), ('28664', 1), ('347064', 1), ('312992', 1), ('349222', 1), ('394140', 1), ('STON/O 2. 3101269', 1), ('343095', 1), ('28220', 1), ('250652', 1), ('28228', 1), ('349254', 1), ('A/5. 13032', 1), ('315082', 1), ('A/4. 34244', 1), ('2003', 1), ('364851', 1), ('SOTON/O.Q. 392078', 1), ('110564', 1), ('SC/AH 3085', 1), ('STON/O 2. 3101274', 1), ('C.A. 18723', 1), ('345769', 1), ('347076', 1), ('230434', 1), ('65306', 1), ('33638', 1), ('113794', 1), ('113786', 1), ('65303', 1), ('113051', 1), ('A/5 2817', 1), ('349240', 1), ('13509', 1), ('17464', 1), ('F.C.C. 13531', 1), ('371060', 1), ('19952', 1), ('364506', 1), ('111320', 1), ('234360', 1), ('A/S 2816', 1), ('SOTON/O.Q. 3101306', 1), ('113792', 1), ('36209', 1), ('323592', 1), ('315089', 1), ('SC/AH Basle 541', 1), ('7553', 1), ('3460', 1), ('350060', 1), ('3101298', 1), ('239854', 1), ('A/5 3594', 1), ('4134', 1), ('11771', 1), ('A.5. 18509', 1), ('65304', 1), ('SOTON/OQ 3101317', 1), ('113787', 1), ('PC 17609', 1), ('A/4 45380', 1), ('C.A. 6212', 1), ('350035', 1), ('315086', 1), ('364846', 1), ('330909', 1), ('4135', 1), ('111427', 1), ('C 4001', 1), ('382651', 1), ('SOTON/OQ 3101316', 1), ('PC 17473', 1), ('PC 17603', 1), ('349209', 1), ('36967', 1), ('C.A. 34260', 1), ('226875', 1), ('349242', 1), ('349252', 1), ('2624', 1), ('2700', 1), ('367232', 1), ('W./C. 14258', 1), ('PC 17483', 1), ('3101296', 1), ('29104', 1), ('2641', 1), ('2690', 1), ('315084', 1), ('113050', 1), ('364498', 1), ('13568', 1), ('693', 1), ('SC/PARIS 2146', 1), ('244358', 1), ('330979', 1), ('2620', 1), ('347085', 1), ('113807', 1), ('11755', 1), ('345572', 1), ('372622', 1), ('349251', 1), ('218629', 1), ('SOTON/OQ 392082', 1), ('SOTON/O.Q. 392087', 1), ('349205', 1), ('2686', 1), ('350417', 1), ('S.W./PP 752', 1), ('11769', 1), ('PC 17474', 1), ('14312', 1), ('A/4. 20589', 1), ('243880', 1), ('2689', 1), ('STON/O 2. 3101286', 1), ('237789', 1), ('13049', 1), ('3411', 1), ('237565', 1), ('13567', 1), ('14973', 1), ('A./5. 3235', 1), ('STON/O 2. 3101273', 1), ('A/5 3902', 1), ('364848', 1), ('SC/AH 29037', 1), ('2664', 1), ('349214', 1), ('113796', 1), ('364511', 1), ('111426', 1), ('349910', 1), ('349246', 1), ('113804', 1), ('SOTON/O.Q. 3101305', 1), ('370377', 1), ('364512', 1), ('31028', 1), ('11753', 1), ('350029', 1), ('36963', 1), ('219533', 1), ('349224', 1), ('334912', 1), ('27042', 1), ('347743', 1), ('13214', 1), ('112052', 1), ('237668', 1), ('STON/O 2. 3101292', 1), ('350050', 1), ('349231', 1), ('13213', 1), ('S.O./P.P. 751', 1), ('CA. 2314', 1), ('349221', 1), ('8475', 1), ('330919', 1), ('365226', 1), ('349223', 1), ('29751', 1), ('2623', 1), ('5727', 1), ('349210', 1), ('STON/O 2. 3101285', 1), ('234686', 1), ('312993', 1), ('A/5 3536', 1), ('F.C. 12750', 1), ('C.A. 24580', 1), ('244270', 1), ('239856', 1), ('349912', 1), ('342826', 1), ('4138', 1), ('330935', 1), ('6563', 1), ('349228', 1), ('350036', 1), ('349256', 1), ('2672', 1), ('113800', 1), ('248731', 1), ('363592', 1), ('35852', 1), ('348121', 1), ('PC 17475', 1), ('36864', 1), ('350025', 1), ('223596', 1), ('PC 17476', 1), ('PC 17482', 1), ('113028', 1), ('7545', 1), ('348124', 1), ('34218', 1), ('36568', 1), ('347062', 1), ('350048', 1), ('12233', 1), ('250643', 1), ('315094', 1), ('36866', 1), ('236853', 1), ('STON/O2. 3101271', 1), ('239855', 1), ('28425', 1), ('233639', 1), ('349201', 1), ('349218', 1), ('16988', 1), ('376566', 1), ('STON/O 2. 3101288', 1), ('250648', 1), ('113773', 1), ('335097', 1), ('29103', 1), ('345780', 1), ('349204', 1), ('350042', 1), ('29108', 1), ('363294', 1), ('SOTON/O2 3101272', 1), ('2663', 1), ('347074', 1), ('112379', 1), ('364850', 1), ('8471', 1), ('345781', 1), ('350047', 1), ('2674', 1), ('29105', 1), ('347078', 1), ('383121', 1), ('36865', 1), ('2687', 1), ('113501', 1), ('SOTON/O.Q. 3101312', 1), ('374887', 1), ('3101265', 1), ('12460', 1), ('PC 17600', 1), ('349203', 1), ('28213', 1), ('17465', 1), ('349244', 1), ('2685', 1), ('2625', 1), ('347089', 1), ('347063', 1), ('112050', 1), ('347087', 1), ('248723', 1), ('3474', 1), ('28206', 1), ('364499', 1), ('112058', 1), ('STON/O2. 3101290', 1), ('C 7075', 1), ('315098', 1), ('19972', 1), ('368323', 1), ('367228', 1), ('2671', 1), ('347468', 1), ('2223', 1), ('PC 17756', 1), ('315097', 1), ('392092', 1), ('11774', 1), ('SOTON/O2 3101287', 1), ('2683', 1), ('315090', 1), ('C.A. 5547', 1), ('349213', 1), ('347060', 1), ('PC 17592', 1), ('392091', 1), ('113055', 1), ('2629', 1), ('350026', 1), ('28134', 1), ('17466', 1), ('233866', 1), ('236852', 1), ('SC/PARIS 2149', 1), ('PC 17590', 1), ('345777', 1), ('349248', 1), ('695', 1), ('345765', 1), ('2667', 1), ('349212', 1), ('349217', 1), ('349257', 1), ('7552', 1), ('C.A./SOTON 34068', 1), ('SOTON/OQ 392076', 1), ('211536', 1), ('112053', 1), ('111369', 1), ('370376', 1), ('113803', 2), ('237736', 2), ('PP 9549', 2), ('239865', 2), ('PC 17569', 2), ('PC 17604', 2), ('113789', 2), ('345764', 2), ('2651', 2), ('11668', 2), ('349237', 2), ('113572', 2), ('36973', 2), ('2661', 2), ('248738', 2), ('364516', 2), ('3101278', 2), ('C.A. 2315', 2), ('231919', 2), ('244367', 2), ('35281', 2), ('110465', 2), ('2665', 2), ('2627', 2), ('PC 17558', 2), ('2668', 2), ('7534', 2), ('PC 17593', 2), ('2678', 2), ('STON/O2. 3101279', 2), ('C.A. 33112', 2), ('113776', 2), ('113505', 2), ('230136', 2), ('370365', 2), ('364849', 2), ('347054', 2), ('2699', 2), ('243847', 2), ('19943', 2), ('367230', 2), ('19928', 2), ('250649', 2), ('11751', 2), ('244252', 2), ('A/5. 3336', 2), ('370129', 2), ('230433', 2), ('113798', 2), ('250644', 2), ('C.A. 2673', 2), ('19877', 2), ('11967', 2), ('367226', 2), ('PC 17758', 2), ('P/PP 3381', 2), ('PC 17485', 2), ('11767', 2), ('PC 17608', 2), ('36928', 2), ('16966', 2), ('111361', 2), ('PC 17611', 2), ('C.A. 37671', 2), ('2691', 2), ('PC 17477', 2), ('2653', 2), ('28403', 2), ('347080', 2), ('250655', 2), ('376564', 2), ('13507', 2), ('17453', 2), ('31027', 2), ('36947', 2), ('26360', 2), ('12749', 2), ('PC 17761', 2), ('WE/P 5735', 2), ('2908', 2), ('A/4 48871', 2), ('358585', 2), ('220845', 2), ('2659', 2), ('54636', 2), ('19996', 2), ('29750', 2), ('17474', 2), ('250647', 2), ('113806', 2), ('392096', 2), ('S.O./P.P. 3', 2), ('W./C. 6607', 2), ('S.C./PARIS 2079', 2), ('347742', 3), ('SC/Paris 2123', 3), ('PC 17572', 3), ('C.A. 34651', 3), ('371110', 3), ('230080', 3), ('363291', 3), ('35273', 3), ('C.A. 31921', 3), ('110152', 3), ('PC 17755', 3), ('110413', 3), ('PC 17582', 3), ('PC 17760', 3), ('13502', 3), ('239853', 3), ('F.C.C. 13529', 3), ('29106', 3), ('345773', 3), ('248727', 3), ('24160', 3), ('349909', 4), ('347077', 4), ('19950', 4), ('W./C. 6608', 4), ('4133', 4), ('LINE', 4), ('113781', 4), ('17421', 4), ('PC 17757', 4), ('113760', 4), ('2666', 4), ('382652', 5), ('S.O.C. 14879', 5), ('3101295', 6), ('CA 2144', 6), ('347088', 6), ('347082', 7), ('1601', 7), ('CA. 2343', 7)]"
     ]
    },
    {
     "name": "stdout",
     "output_type": "stream",
     "text": [
      "\n"
     ]
    }
   ],
   "source": [
    "# 整理出每一個Ticket的個數並排序\n",
    "# 1. 用value_counts計算每一item出現的個數\n",
    "# 2. 用items轉成tuple list(generator)型別\n",
    "# 3. 用list把generator展開\n",
    "# 4. 指派到新的變數\n",
    "#=============your works starts===============#\n",
    "sorted_ticket_counter = list(df['Ticket'].value_counts().items())\n",
    "#==============your works ends================#\n",
    "\n",
    "print(sorted_ticket_counter)\n",
    "# [('110152', 3), ('110413', 3), ('110465', 2), ('110564', 1), ('110813', 1), ('111240', 1), ('111320', 1), ('111361', 2), ('111369', 1),"
   ]
  },
  {
   "cell_type": "code",
   "execution_count": 29,
   "metadata": {
    "scrolled": true
   },
   "outputs": [
    {
     "name": "stdout",
     "output_type": "stream",
     "text": [
      "Counter({1: 661, 5: 65, 3: 47, 8: 30, 2: 29, 7: 18, 6: 17, 9: 13, 4: 7, 0: 4})\n"
     ]
    }
   ],
   "source": [
    "# ticket\n",
    "ticket_cat = {}\n",
    "for ticket in df['Ticket']:\n",
    "    if ticket.isdigit():\n",
    "        ticket_cat[ticket] = 1\n",
    "    elif ticket.startswith('A'):\n",
    "        ticket_cat[ticket] = 2\n",
    "    elif ticket.startswith('C'):\n",
    "        ticket_cat[ticket] = 3\n",
    "    elif ticket.startswith('F'):\n",
    "        ticket_cat[ticket] = 4\n",
    "    elif ticket.startswith('P'):\n",
    "        ticket_cat[ticket] = 5\n",
    "    elif ticket.startswith('SOTON'):\n",
    "        ticket_cat[ticket] = 6\n",
    "    elif ticket.startswith('STON'):\n",
    "        ticket_cat[ticket] = 7\n",
    "    elif ticket.startswith('S'):\n",
    "        ticket_cat[ticket] = 8\n",
    "    elif ticket.startswith('W'):\n",
    "        ticket_cat[ticket] = 9\n",
    "    else:\n",
    "        ticket_cat[ticket] = 0\n",
    "df['ticket_cat'] = df['Ticket'].apply(ticket_cat.get)\n",
    "print(Counter(df['ticket_cat']))\n"
   ]
  },
  {
   "cell_type": "markdown",
   "metadata": {},
   "source": [
    "## Embarked - Category"
   ]
  },
  {
   "cell_type": "code",
   "execution_count": 30,
   "metadata": {},
   "outputs": [
    {
     "name": "stdout",
     "output_type": "stream",
     "text": [
      "[('C', 168), ('Q', 77), ('S', 644), ('nan', 2)]\n"
     ]
    }
   ],
   "source": [
    "# 整理出每一個Embarked的個數並排序(hint:Counter(), sorted())\n",
    "#=============your works starts===============#\n",
    "sorted_embarked_counter = sorted(dict(Counter(df['Embarked'].astype(str))).items(), key=lambda x:x[0])\n",
    "#==============your works ends================#\n",
    "\n",
    "print(sorted_embarked_counter)\n",
    "# [('C', 168), ('Q', 77), ('S', 644), ('nan', 2)]"
   ]
  },
  {
   "cell_type": "code",
   "execution_count": 31,
   "metadata": {},
   "outputs": [
    {
     "name": "stdout",
     "output_type": "stream",
     "text": [
      "{nan: 0, 'S': 1, 'C': 2, 'Q': 3}\n"
     ]
    }
   ],
   "source": [
    "# 創造embarked的類別對應dict\n",
    "#=============your works starts===============#\n",
    "embarked_mapping = dict([(e,i)for i, e in enumerate(set(df['Embarked']))])\n",
    "#==============your works ends================#\n",
    "\n",
    "\n",
    "print(embarked_mapping)\n",
    "#{nan: 0, 'S': 1, 'Q': 2, 'C': 3}"
   ]
  },
  {
   "cell_type": "code",
   "execution_count": 32,
   "metadata": {},
   "outputs": [
    {
     "name": "stdout",
     "output_type": "stream",
     "text": [
      "Counter({1: 644, 2: 168, 3: 77, 0: 2})\n"
     ]
    }
   ],
   "source": [
    "# 轉換embarked為數字類別\n",
    "#=============your works starts===============#\n",
    "df['embarked_cat'] = df['Embarked'].apply(embarked_mapping.get)\n",
    "#==============your works ends================#\n",
    "\n",
    "print(Counter(df['embarked_cat']))\n",
    "#Counter({1: 644, 3: 168, 2: 77, 0: 2})"
   ]
  },
  {
   "cell_type": "markdown",
   "metadata": {},
   "source": [
    "dict[key] v.s. dict.get(key)\n",
    "    - get 可以設定第二個參數，找不到這個key要回傳的值，default=None\n",
    "    - []索引如果找不到key，會跳error"
   ]
  },
  {
   "cell_type": "code",
   "execution_count": 33,
   "metadata": {},
   "outputs": [],
   "source": [
    "# X = np.array([1, np.nan, None]).astype(float)\n",
    "# X == None\n",
    "# np.isnan(X)"
   ]
  },
  {
   "cell_type": "markdown",
   "metadata": {},
   "source": [
    "## Name - NLP category"
   ]
  },
  {
   "cell_type": "code",
   "execution_count": 34,
   "metadata": {},
   "outputs": [
    {
     "name": "stdout",
     "output_type": "stream",
     "text": [
      "['(Florence Briggs Thayer)']\n",
      "['(Dother Thier)']\n"
     ]
    }
   ],
   "source": [
    "# re.findall()的使用方法\n",
    "test_str = 'Cumings, Mrs. John Bradley (Florence Briggs Thayer)'\n",
    "test_str1 = 'St. Clumbia (Dother Thier)'\n",
    "\n",
    "# 請取出「(」、「)」中的文字\n",
    "#=============your works starts===============#\n",
    "pattern = \"\\(.+?\\)\"\n",
    "sub_str = re.findall(pattern, test_str)\n",
    "sub_str1 = re.findall(pattern, test_str1)\n",
    "#==============your works ends================#\n",
    "\n",
    "print(sub_str)\n",
    "print(sub_str1)\n",
    "# ['(Florence Briggs Thayer)']\n",
    "# ['(Dother Thier)']"
   ]
  },
  {
   "cell_type": "code",
   "execution_count": 35,
   "metadata": {
    "scrolled": true
   },
   "outputs": [
    {
     "name": "stdout",
     "output_type": "stream",
     "text": [
      "['Mr' 'Mrs' 'Miss' 'Mrs' 'Mr' 'Mr' 'Mr' 'Master' 'Mrs' 'Mrs']\n"
     ]
    }
   ],
   "source": [
    "# 請找到位在\",\"以及\".\"之間的所有字並將\" \", \".\", \",\"去掉(hint: re.findall(), str.replace())\n",
    "# 1. 用re.findall找到所有在\",\"以及\".\"的詞\n",
    "# 2. 所引出第零的詞\n",
    "# 3. 用replace拿掉\",\", \".\"以及\" \"\n",
    "def find_call(name):\n",
    "    #=============your works starts===============#\n",
    "    name = re.findall('\\,.+\\.', name)[0].replace(\",\", \"\").replace(\".\", \"\").replace(\" \", \"\")\n",
    "    #==============your works ends================#\n",
    "    return name \n",
    "\n",
    "title_cat_series = df['Name'].apply(find_call)\n",
    "print(title_cat_series.values[:10])\n",
    "#['Mr' 'Mrs' 'Miss' 'Mrs' 'Mr' 'Mr' 'Mr' 'Master' 'Mrs' 'Mrs']"
   ]
  },
  {
   "cell_type": "code",
   "execution_count": 36,
   "metadata": {},
   "outputs": [
    {
     "name": "stdout",
     "output_type": "stream",
     "text": [
      "Counter({1: 517, 2: 185, 3: 126, 4: 40, 5: 23})\n"
     ]
    }
   ],
   "source": [
    "title_mapping= {\n",
    "    'Ms':\"Miss\",\n",
    "    'Mlle':\"Miss\",\n",
    "    'Miss':\"Miss\",\n",
    "    'Mrs':\"Mrs\",\n",
    "    'Mme':\"Mrs\",\n",
    "    'MrsMartin(ElizabethL':\"Mrs\",\n",
    "    'Mr':\"Mr\"\n",
    "    }\n",
    "\n",
    "title_cat = {\"Mr\": 1, \"Miss\": 2, \"Mrs\": 3, \"Master\": 4, \"Rare\": 5}\n",
    "\n",
    "def process_title(call):\n",
    "    if title_cat.get(call):\n",
    "        return title_cat.get(call)\n",
    "    else:\n",
    "        return title_cat.get(title_mapping.get(call, \"Rare\"))\n",
    "\n",
    "df['title_cat'] = title_cat_series.apply(process_title) \n",
    "print(Counter(df['title_cat']))\n"
   ]
  },
  {
   "cell_type": "markdown",
   "metadata": {},
   "source": [
    "## Title - Length"
   ]
  },
  {
   "cell_type": "code",
   "execution_count": 37,
   "metadata": {},
   "outputs": [
    {
     "name": "stdout",
     "output_type": "stream",
     "text": [
      "Counter({1: 303, 2: 237, 0: 204, 3: 57, 4: 53, 5: 26, 6: 8, 7: 2, 9: 1})\n"
     ]
    }
   ],
   "source": [
    "# 算出df['Name']中每一個名字的長度並放進一個array\n",
    "#=============your works starts===============#\n",
    "name_length = df['Name'].apply(len)\n",
    "#==============your works ends================#\n",
    "\n",
    "\n",
    "print(Counter(pd.cut(name_length, bins=10, labels=range(10))))\n",
    "# Counter({1: 303, 2: 237, 0: 204, 3: 57, 4: 53, 5: 26, 6: 8, 7: 2, 9: 1})"
   ]
  },
  {
   "cell_type": "code",
   "execution_count": 38,
   "metadata": {},
   "outputs": [],
   "source": [
    "df['name_length'] = name_length"
   ]
  },
  {
   "cell_type": "code",
   "execution_count": 39,
   "metadata": {},
   "outputs": [
    {
     "name": "stderr",
     "output_type": "stream",
     "text": [
      "c:\\users\\thinktron\\appdata\\local\\programs\\python\\python36\\lib\\site-packages\\ipykernel_launcher.py:3: FutureWarning: `Series.plot()` should not be called with positional arguments, only keyword arguments. The order of positional arguments will change in the future. Use `Series.plot(kind='hist')` instead of `Series.plot('hist',)`.\n",
      "  This is separate from the ipykernel package so we can avoid doing imports until\n"
     ]
    },
    {
     "data": {
      "image/png": "[encoded data removed]",
      "text/plain": [
       "<Figure size 432x288 with 1 Axes>"
      ]
     },
     "metadata": {
      "needs_background": "light"
     },
     "output_type": "display_data"
    }
   ],
   "source": [
    "# 劃出每一長度區間次數的長條分布圖(如長度界在10~20之間的有出現約150次)(hint: df[col].plot('hist'))\n",
    "#!=============your works starts===============!#\n",
    "df['name_length'].plot('hist')\n",
    "#!==============your works ends================!#\n",
    "\n",
    "plt.show()"
   ]
  },
  {
   "cell_type": "markdown",
   "metadata": {},
   "source": [
    "## Fare - PCA, smooth noisy data, feature generation"
   ]
  },
  {
   "cell_type": "code",
   "execution_count": 40,
   "metadata": {},
   "outputs": [
    {
     "name": "stdout",
     "output_type": "stream",
     "text": [
      "['PassengerId', 'Survived', 'Pclass', 'Age', 'SibSp', 'Parch', 'Fare', 'avg_age', 'median_age', 'random_age', 'avg_age_l1', 'avg_age_l2', 'avg_age_01', 'name_length']\n"
     ]
    }
   ],
   "source": [
    "# 請找出dtype是np.int64或np.float64且名稱不以'_cat'結尾的欄位。\n",
    "#=============your works starts===============#\n",
    "number_cols = [col for col in df.columns if df[col].dtype in [np.int64, np.float64] and not col.endswith('_cat')]\n",
    "#==============your works ends================#\n",
    "\n",
    "\n",
    "print(number_cols)\n",
    "# ['PassengerId', 'Survived', 'Pclass', 'Age', 'SibSp', 'Parch', 'Fare', 'avg_age', 'median_age', 'random_age', 'avg_age_l1', 'avg_age_l2', 'name_length']"
   ]
  },
  {
   "cell_type": "markdown",
   "metadata": {},
   "source": [
    "請參照[這個連結](http://scikit-learn.org/stable/auto_examples/datasets/plot_iris_dataset.html#sphx-glr-auto-examples-datasets-plot-iris-dataset-py)，劃出以下這張PCA圖\n",
    "\n",
    "![PCA_chart](./imgs/PCA.png)"
   ]
  },
  {
   "cell_type": "code",
   "execution_count": 41,
   "metadata": {},
   "outputs": [
    {
     "data": {
      "image/png": "[encoded data removed]",
      "text/plain": [
       "<Figure size 576x432 with 1 Axes>"
      ]
     },
     "metadata": {
      "needs_background": "light"
     },
     "output_type": "display_data"
    }
   ],
   "source": [
    "X = df[['Pclass', 'Parch', 'SibSp', 'Fare', 'avg_age', 'name_length']].values\n",
    "Y = np.array(df['Survived'])\n",
    "\n",
    "#!=============your works starts===============!#\n",
    "fig = plt.figure(1, figsize=(8, 6))\n",
    "ax = Axes3D(fig, elev=-150, azim=110)\n",
    "\n",
    "X_reduced = PCA(n_components=3).fit_transform(X)\n",
    "ax.scatter(X_reduced[:, 0], X_reduced[:, 1], X_reduced[:, 2], c=Y,\n",
    "           cmap=plt.cm.Set1, edgecolor='k', s=40)\n",
    "ax.set_title(\"PCA with non-log(Fare)\")\n",
    "ax.set_xlabel(\"1st eigenvector\")\n",
    "ax.w_xaxis.set_ticklabels([])\n",
    "ax.set_ylabel(\"2nd eigenvector\")\n",
    "ax.w_yaxis.set_ticklabels([])\n",
    "ax.set_zlabel(\"3rd eigenvector\")\n",
    "ax.w_zaxis.set_ticklabels([])\n",
    "#!==============your works ends================!#\n",
    "\n",
    "plt.show()"
   ]
  },
  {
   "cell_type": "code",
   "execution_count": 42,
   "metadata": {},
   "outputs": [
    {
     "data": {
      "text/html": [
       "<div>\n",
       "<style scoped>\n",
       "    .dataframe tbody tr th:only-of-type {\n",
       "        vertical-align: middle;\n",
       "    }\n",
       "\n",
       "    .dataframe tbody tr th {\n",
       "        vertical-align: top;\n",
       "    }\n",
       "\n",
       "    .dataframe thead th {\n",
       "        text-align: right;\n",
       "    }\n",
       "</style>\n",
       "<table border=\"1\" class=\"dataframe\">\n",
       "  <thead>\n",
       "    <tr style=\"text-align: right;\">\n",
       "      <th></th>\n",
       "      <th>Pclass</th>\n",
       "      <th>Parch</th>\n",
       "      <th>SibSp</th>\n",
       "      <th>Fare</th>\n",
       "      <th>avg_age</th>\n",
       "      <th>name_length</th>\n",
       "    </tr>\n",
       "  </thead>\n",
       "  <tbody>\n",
       "    <tr>\n",
       "      <th>count</th>\n",
       "      <td>891.000000</td>\n",
       "      <td>891.000000</td>\n",
       "      <td>891.000000</td>\n",
       "      <td>891.000000</td>\n",
       "      <td>891.000000</td>\n",
       "      <td>891.000000</td>\n",
       "    </tr>\n",
       "    <tr>\n",
       "      <th>mean</th>\n",
       "      <td>2.308642</td>\n",
       "      <td>0.381594</td>\n",
       "      <td>0.523008</td>\n",
       "      <td>32.204208</td>\n",
       "      <td>29.699118</td>\n",
       "      <td>26.965208</td>\n",
       "    </tr>\n",
       "    <tr>\n",
       "      <th>std</th>\n",
       "      <td>0.836071</td>\n",
       "      <td>0.806057</td>\n",
       "      <td>1.102743</td>\n",
       "      <td>49.693429</td>\n",
       "      <td>13.002015</td>\n",
       "      <td>9.281607</td>\n",
       "    </tr>\n",
       "    <tr>\n",
       "      <th>min</th>\n",
       "      <td>1.000000</td>\n",
       "      <td>0.000000</td>\n",
       "      <td>0.000000</td>\n",
       "      <td>0.000000</td>\n",
       "      <td>0.420000</td>\n",
       "      <td>12.000000</td>\n",
       "    </tr>\n",
       "    <tr>\n",
       "      <th>25%</th>\n",
       "      <td>2.000000</td>\n",
       "      <td>0.000000</td>\n",
       "      <td>0.000000</td>\n",
       "      <td>7.910400</td>\n",
       "      <td>22.000000</td>\n",
       "      <td>20.000000</td>\n",
       "    </tr>\n",
       "    <tr>\n",
       "      <th>50%</th>\n",
       "      <td>3.000000</td>\n",
       "      <td>0.000000</td>\n",
       "      <td>0.000000</td>\n",
       "      <td>14.454200</td>\n",
       "      <td>29.699118</td>\n",
       "      <td>25.000000</td>\n",
       "    </tr>\n",
       "    <tr>\n",
       "      <th>75%</th>\n",
       "      <td>3.000000</td>\n",
       "      <td>0.000000</td>\n",
       "      <td>1.000000</td>\n",
       "      <td>31.000000</td>\n",
       "      <td>35.000000</td>\n",
       "      <td>30.000000</td>\n",
       "    </tr>\n",
       "    <tr>\n",
       "      <th>max</th>\n",
       "      <td>3.000000</td>\n",
       "      <td>6.000000</td>\n",
       "      <td>8.000000</td>\n",
       "      <td>512.329200</td>\n",
       "      <td>80.000000</td>\n",
       "      <td>82.000000</td>\n",
       "    </tr>\n",
       "  </tbody>\n",
       "</table>\n",
       "</div>"
      ],
      "text/plain": [
       "           Pclass       Parch       SibSp        Fare     avg_age  name_length\n",
       "count  891.000000  891.000000  891.000000  891.000000  891.000000   891.000000\n",
       "mean     2.308642    0.381594    0.523008   32.204208   29.699118    26.965208\n",
       "std      0.836071    0.806057    1.102743   49.693429   13.002015     9.281607\n",
       "min      1.000000    0.000000    0.000000    0.000000    0.420000    12.000000\n",
       "25%      2.000000    0.000000    0.000000    7.910400   22.000000    20.000000\n",
       "50%      3.000000    0.000000    0.000000   14.454200   29.699118    25.000000\n",
       "75%      3.000000    0.000000    1.000000   31.000000   35.000000    30.000000\n",
       "max      3.000000    6.000000    8.000000  512.329200   80.000000    82.000000"
      ]
     },
     "execution_count": 42,
     "metadata": {},
     "output_type": "execute_result"
    }
   ],
   "source": [
    "# 請找出標準差最大的欄位['Pclass', 'Parch', 'SibSp', 'Fare', 'avg_age', 'name_length']\n",
    "#!=============your works starts===============!#\n",
    "df[['Pclass', 'Parch', 'SibSp', 'Fare', 'avg_age', 'name_length']].describe()\n",
    "#!==============your works ends================!#\n"
   ]
  },
  {
   "cell_type": "code",
   "execution_count": 43,
   "metadata": {},
   "outputs": [],
   "source": [
    "# # 請找出Fare的平均值(mean)，並填入df['Fare']中\n",
    "# #=============your works starts===============#\n",
    "# avg_fare = df['Fare'].mean()\n",
    "# df[pd.isnull(df['Fare'])] = avg_fare\n",
    "# #==============your works ends================#\n",
    "# # df['Fare'].fillna(avg_fare)\n",
    "\n",
    "\n",
    "# print(\"avg_fare\", avg_fare)\n",
    "# # 32.204207968574636\n",
    "# print(\"number of null of Fare:\", len(df[pd.isnull(df['Fare'])]))\n",
    "# # number of null of Fare: 0"
   ]
  },
  {
   "cell_type": "code",
   "execution_count": 44,
   "metadata": {},
   "outputs": [
    {
     "name": "stdout",
     "output_type": "stream",
     "text": [
      "number of Fare equals zero: 0\n"
     ]
    }
   ],
   "source": [
    "# 找出Fare==0的row，補上Fare=1\n",
    "#!=============your works starts===============!#\n",
    "df.loc[df['Fare']==0, 'Fare'] = 1\n",
    "#!==============your works ends================!#\n",
    "\n",
    "print(\"number of Fare equals zero:\", len(df[df['Fare']==0]))\n",
    "# number of Fare equals zero: 0"
   ]
  },
  {
   "cell_type": "code",
   "execution_count": 45,
   "metadata": {},
   "outputs": [
    {
     "name": "stdout",
     "output_type": "stream",
     "text": [
      "[0.86033801 1.8529878  0.89899927 1.72509452 0.90579588]\n"
     ]
    }
   ],
   "source": [
    "# 請算出Fare以10為底的log值\n",
    "#=============your works starts===============#\n",
    "fare_log10 = np.log10(df['Fare'].values)\n",
    "#==============your works ends================#\n",
    "\n",
    "\n",
    "print(fare_log10[:5])\n",
    "# [0.86033801 1.8529878  0.89899927 1.72509452 0.90579588]"
   ]
  },
  {
   "cell_type": "code",
   "execution_count": 46,
   "metadata": {},
   "outputs": [
    {
     "data": {
      "text/html": [
       "<div>\n",
       "<style scoped>\n",
       "    .dataframe tbody tr th:only-of-type {\n",
       "        vertical-align: middle;\n",
       "    }\n",
       "\n",
       "    .dataframe tbody tr th {\n",
       "        vertical-align: top;\n",
       "    }\n",
       "\n",
       "    .dataframe thead th {\n",
       "        text-align: right;\n",
       "    }\n",
       "</style>\n",
       "<table border=\"1\" class=\"dataframe\">\n",
       "  <thead>\n",
       "    <tr style=\"text-align: right;\">\n",
       "      <th></th>\n",
       "      <th>Fare</th>\n",
       "      <th>fare_log10</th>\n",
       "    </tr>\n",
       "  </thead>\n",
       "  <tbody>\n",
       "    <tr>\n",
       "      <th>0</th>\n",
       "      <td>7.2500</td>\n",
       "      <td>0.860338</td>\n",
       "    </tr>\n",
       "    <tr>\n",
       "      <th>1</th>\n",
       "      <td>71.2833</td>\n",
       "      <td>1.852988</td>\n",
       "    </tr>\n",
       "    <tr>\n",
       "      <th>2</th>\n",
       "      <td>7.9250</td>\n",
       "      <td>0.898999</td>\n",
       "    </tr>\n",
       "    <tr>\n",
       "      <th>3</th>\n",
       "      <td>53.1000</td>\n",
       "      <td>1.725095</td>\n",
       "    </tr>\n",
       "    <tr>\n",
       "      <th>4</th>\n",
       "      <td>8.0500</td>\n",
       "      <td>0.905796</td>\n",
       "    </tr>\n",
       "  </tbody>\n",
       "</table>\n",
       "</div>"
      ],
      "text/plain": [
       "      Fare  fare_log10\n",
       "0   7.2500    0.860338\n",
       "1  71.2833    1.852988\n",
       "2   7.9250    0.898999\n",
       "3  53.1000    1.725095\n",
       "4   8.0500    0.905796"
      ]
     },
     "execution_count": 46,
     "metadata": {},
     "output_type": "execute_result"
    }
   ],
   "source": [
    "df['fare_log10'] = fare_log10\n",
    "df[['Fare', 'fare_log10']].head()"
   ]
  },
  {
   "cell_type": "code",
   "execution_count": 47,
   "metadata": {},
   "outputs": [
    {
     "data": {
      "text/plain": [
       "count    891.000000\n",
       "mean       1.256781\n",
       "std        0.435553\n",
       "min        0.000000\n",
       "25%        0.898198\n",
       "50%        1.159994\n",
       "75%        1.491362\n",
       "max        2.709549\n",
       "Name: fare_log10, dtype: float64"
      ]
     },
     "execution_count": 47,
     "metadata": {},
     "output_type": "execute_result"
    }
   ],
   "source": [
    "df['fare_log10'].describe()"
   ]
  },
  {
   "cell_type": "code",
   "execution_count": 48,
   "metadata": {
    "scrolled": true
   },
   "outputs": [
    {
     "data": {
      "image/png": "[encoded data removed]",
      "text/plain": [
       "<Figure size 576x432 with 1 Axes>"
      ]
     },
     "metadata": {
      "needs_background": "light"
     },
     "output_type": "display_data"
    }
   ],
   "source": [
    "X = np.matrix(df[['Parch', 'SibSp', 'avg_age', 'fare_log10']])\n",
    "Y = np.array(df['Survived'])\n",
    "\n",
    "fig = plt.figure(1, figsize=(8, 6))\n",
    "ax = Axes3D(fig, elev=-150, azim=110)\n",
    "\n",
    "X_reduced = PCA(n_components=3).fit_transform(X)\n",
    "ax.scatter(X_reduced[:, 0], X_reduced[:, 1], X_reduced[:, 2], c=Y,\n",
    "           cmap=plt.cm.Set1, edgecolor='k', s=40)\n",
    "ax.set_title(\"PCA with non-log(Fare)\")\n",
    "ax.set_xlabel(\"1st eigenvector\")\n",
    "ax.w_xaxis.set_ticklabels([])\n",
    "ax.set_ylabel(\"2nd eigenvector\")\n",
    "ax.w_yaxis.set_ticklabels([])\n",
    "ax.set_zlabel(\"3rd eigenvector\")\n",
    "ax.w_zaxis.set_ticklabels([])\n",
    "\n",
    "plt.show()"
   ]
  },
  {
   "cell_type": "markdown",
   "metadata": {},
   "source": [
    "# 類別型變數onehot encode"
   ]
  },
  {
   "cell_type": "markdown",
   "metadata": {},
   "source": [
    "1. OneHotEncoding\n",
    "```\n",
    "# from sklearn.preprocessing import OneHotEncoder\n",
    "# [0,1,2] => \n",
    "# [\n",
    "#     [1,0,0],\n",
    "#     [0,1,0],\n",
    "#     [0,0,1],\n",
    "# ]\n",
    "```\n",
    "2. sklearn encoder or classifier usage\n",
    "    1. fit: 歸納整理\n",
    "    2. fit_transform: 歸納整理+轉換\n",
    "    3. transform (or predict): 轉換"
   ]
  },
  {
   "cell_type": "code",
   "execution_count": 49,
   "metadata": {},
   "outputs": [
    {
     "data": {
      "text/plain": [
       "OneHotEncoder(categorical_features=None, categories=None, drop=None,\n",
       "              dtype=<class 'numpy.float64'>, handle_unknown='error',\n",
       "              n_values=None, sparse=True)"
      ]
     },
     "execution_count": 49,
     "metadata": {},
     "output_type": "execute_result"
    }
   ],
   "source": [
    "# 請使用preprocessing.OneHotEncoder()初始化一個encoder\n",
    "#=============your works starts===============#\n",
    "enc = preprocessing.OneHotEncoder()\n",
    "#==============your works ends================#\n",
    "\n",
    "enc\n",
    "# OneHotEncoder(categorical_features='all', dtype=<class 'numpy.float64'>,\n",
    "#        handle_unknown='error', n_values='auto', sparse=True)"
   ]
  },
  {
   "cell_type": "code",
   "execution_count": 63,
   "metadata": {},
   "outputs": [
    {
     "name": "stdout",
     "output_type": "stream",
     "text": [
      "1 [1. 0. 0. 0. 0.]\n",
      "3 [0. 0. 1. 0. 0.]\n",
      "2 [0. 1. 0. 0. 0.]\n",
      "3 [0. 0. 1. 0. 0.]\n",
      "1 [1. 0. 0. 0. 0.]\n",
      "1 [1. 0. 0. 0. 0.]\n",
      "1 [1. 0. 0. 0. 0.]\n",
      "4 [0. 0. 0. 1. 0.]\n",
      "3 [0. 0. 1. 0. 0.]\n",
      "3 [0. 0. 1. 0. 0.]\n"
     ]
    },
    {
     "name": "stderr",
     "output_type": "stream",
     "text": [
      "c:\\users\\thinktron\\appdata\\local\\programs\\python\\python36\\lib\\site-packages\\sklearn\\preprocessing\\_encoders.py:415: FutureWarning: The handling of integer data will change in version 0.22. Currently, the categories are determined based on the range [0, max(values)], while in the future they will be determined based on the unique values.\n",
      "If you want the future behaviour and silence this warning, you can specify \"categories='auto'\".\n",
      "In case you used a LabelEncoder before this OneHotEncoder to convert the categories to integers, then you can now use the OneHotEncoder directly.\n",
      "  warnings.warn(msg, FutureWarning)\n"
     ]
    }
   ],
   "source": [
    "# 請使用enc.fit_transform兩個步驟，onehot encode title_cat\n",
    "#=============your works starts===============#\n",
    "title_cat_onehot = enc.fit_transform(df[['title_cat']].values).toarray()\n",
    "#==============your works ends================#\n",
    "\n",
    "for i in range(10):\n",
    "    print(df['title_cat'].values[i], title_cat_onehot[i])\n"
   ]
  },
  {
   "cell_type": "code",
   "execution_count": 51,
   "metadata": {},
   "outputs": [
    {
     "name": "stderr",
     "output_type": "stream",
     "text": [
      "c:\\users\\thinktron\\appdata\\local\\programs\\python\\python36\\lib\\site-packages\\sklearn\\preprocessing\\_encoders.py:415: FutureWarning: The handling of integer data will change in version 0.22. Currently, the categories are determined based on the range [0, max(values)], while in the future they will be determined based on the unique values.\n",
      "If you want the future behaviour and silence this warning, you can specify \"categories='auto'\".\n",
      "In case you used a LabelEncoder before this OneHotEncoder to convert the categories to integers, then you can now use the OneHotEncoder directly.\n",
      "  warnings.warn(msg, FutureWarning)\n"
     ]
    },
    {
     "data": {
      "text/plain": [
       "array([[0., 1., 0., 0.],\n",
       "       [0., 0., 1., 0.],\n",
       "       [0., 1., 0., 0.]])"
      ]
     },
     "execution_count": 51,
     "metadata": {},
     "output_type": "execute_result"
    }
   ],
   "source": [
    "enc = preprocessing.OneHotEncoder()\n",
    "# 請使用enc.fit_transform兩個步驟，onehot encode embarked_cat\n",
    "#=============your works starts===============#\n",
    "embarked_cat_onehot = enc.fit_transform(df[['embarked_cat']].values).toarray()\n",
    "#==============your works ends================#\n",
    "\n",
    "embarked_cat_onehot[:3]\n",
    "# array([[0., 0., 1., 0.],\n",
    "#        [0., 1., 0., 0.],\n",
    "#        [0., 0., 1., 0.]])"
   ]
  },
  {
   "cell_type": "markdown",
   "metadata": {},
   "source": [
    "# PolynomialFeatures"
   ]
  },
  {
   "cell_type": "code",
   "execution_count": 52,
   "metadata": {
    "scrolled": false
   },
   "outputs": [
    {
     "name": "stdout",
     "output_type": "stream",
     "text": [
      "[[0.86033801 0.74018149]\n",
      " [1.8529878  3.43356378]]\n"
     ]
    }
   ],
   "source": [
    "poly = preprocessing.PolynomialFeatures(degree=2)\n",
    "# 請利用poly.fit_transform製造出fare_log10的0次項、1次項、2次項，並把0次項拿掉\n",
    "#=============your works starts===============#\n",
    "fare_log10_poly = poly.fit_transform(df[['fare_log10']])[:, 1:]\n",
    "#==============your works ends================#\n",
    "\n",
    "print(fare_log10_poly[:2])\n",
    "# [[0.86033801 0.74018149]\n",
    "#  [1.8529878  3.43356378]]"
   ]
  },
  {
   "cell_type": "code",
   "execution_count": 53,
   "metadata": {},
   "outputs": [
    {
     "name": "stdout",
     "output_type": "stream",
     "text": [
      "[[8.60338007e-01 8.31383556e-04 7.40181486e-01 7.15270871e-04\n",
      "  6.91198616e-07]\n",
      " [1.85298780e+00 1.43602614e-03 3.43356378e+00 2.66093892e-03\n",
      "  2.06217108e-06]]\n"
     ]
    }
   ],
   "source": [
    "# 請利用poly.fit_transform製造出'fare_log10', 'random_age'的二項次及其一次交成項\n",
    "#=============your works starts===============#\n",
    "age_fare_ploy = poly.fit_transform(df[['fare_log10', 'avg_age_l1']])[:, 1:]\n",
    "#==============your works ends================#\n",
    "\n",
    "print(age_fare_ploy[:2])\n",
    "# [[8.60338007e-01 8.31383556e-04 7.40181486e-01 7.15270871e-04 6.91198616e-07]\n",
    "#  [1.85298780e+00 1.43602614e-03 3.43356378e+00 2.66093892e-03 2.06217108e-06]]"
   ]
  },
  {
   "cell_type": "markdown",
   "metadata": {
    "collapsed": true
   },
   "source": [
    "## Preprocessing Conclude"
   ]
  },
  {
   "cell_type": "code",
   "execution_count": 54,
   "metadata": {},
   "outputs": [
    {
     "data": {
      "text/plain": [
       "Index(['PassengerId', 'Survived', 'Pclass', 'Name', 'Sex', 'Age', 'SibSp',\n",
       "       'Parch', 'Ticket', 'Fare', 'Cabin', 'Embarked', 'avg_age', 'median_age',\n",
       "       'random_age', 'avg_age_l1', 'avg_age_l2', 'avg_age_01', 'cabin_cat',\n",
       "       'sex_cat', 'ticket_cat', 'embarked_cat', 'title_cat', 'name_length',\n",
       "       'fare_log10'],\n",
       "      dtype='object')"
      ]
     },
     "execution_count": 54,
     "metadata": {},
     "output_type": "execute_result"
    }
   ],
   "source": [
    "df.columns"
   ]
  },
  {
   "cell_type": "code",
   "execution_count": 55,
   "metadata": {},
   "outputs": [
    {
     "name": "stdout",
     "output_type": "stream",
     "text": [
      "(891, 20)\n",
      "(891, 1)\n"
     ]
    }
   ],
   "source": [
    "X = df[['SibSp', 'Parch', 'avg_age_l2', 'sex_cat', 'name_length', 'fare_log10']].values\n",
    "X = np.concatenate([X, title_cat_onehot, embarked_cat_onehot, age_fare_ploy], axis=1)\n",
    "Y = df[['Survived']].values\n",
    "\n",
    "print(X.shape)\n",
    "print(Y.shape)"
   ]
  },
  {
   "cell_type": "code",
   "execution_count": 56,
   "metadata": {},
   "outputs": [
    {
     "name": "stdout",
     "output_type": "stream",
     "text": [
      "Accuracy: 0.8071748878923767\n"
     ]
    }
   ],
   "source": [
    "from sklearn import linear_model\n",
    "from  sklearn.model_selection import train_test_split\n",
    "\n",
    "\n",
    "X_train, X_test, Y_train, Y_test = train_test_split(X, Y, random_state=1212)\n",
    "\n",
    "reg = linear_model.LinearRegression()\n",
    "reg.fit(X_train, Y_train)\n",
    "predict_prob = reg.predict(X_test)\n",
    "\n",
    "Y_predict = predict_prob > 0.5 \n",
    "Y_test = Y_test == 1\n",
    "acc = np.sum(Y_predict == Y_test)/ len(Y_test)\n",
    "print(\"Accuracy:\", acc)\n"
   ]
  }
 ],
 "metadata": {
  "kernelspec": {
   "display_name": "IIIMaterial",
   "language": "python",
   "name": "iiimaterial"
  },
  "language_info": {
   "codemirror_mode": {
    "name": "ipython",
    "version": 3
   },
   "file_extension": ".py",
   "mimetype": "text/x-python",
   "name": "python",
   "nbconvert_exporter": "python",
   "pygments_lexer": "ipython3",
   "version": "3.6.8"
  }
 },
 "nbformat": 4,
 "nbformat_minor": 2
}
