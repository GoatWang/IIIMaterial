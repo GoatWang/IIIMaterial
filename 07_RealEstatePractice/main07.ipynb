{
 "cells": [
  {
   "cell_type": "markdown",
   "metadata": {},
   "source": [
    "- Please start the test in Kaggle https://www.kaggle.com/t/94b12368cbce4c65a2b4ea4be059e312\n",
    "- demo website: http://realestateevaluator-dev.ap-southeast-1.elasticbeanstalk.com/evaluator/"
   ]
  },
  {
   "cell_type": "code",
   "execution_count": 1,
   "metadata": {},
   "outputs": [],
   "source": [
    "# import pandas as pd\n",
    "# import os\n",
    "# import urllib.request\n",
    "# from sklearn.model_selection import train_test_split\n"
   ]
  },
  {
   "cell_type": "code",
   "execution_count": 2,
   "metadata": {},
   "outputs": [],
   "source": [
    "# if 'data' not in os.listdir():\n",
    "#     os.mkdir('data')\n",
    "    \n",
    "# if 'df_realestate.csv' not in os.listdir('data'):\n",
    "#     url = 'https://s3.amazonaws.com/datasets-jeremy/df_realestate.csv'  \n",
    "#     urllib.request.urlretrieve(url, os.path.join('data', 'df_realestate.csv')) \n",
    "    \n",
    "# if 'df_realestate_processed.csv' not in os.listdir('data'):\n",
    "#     url = 'https://s3.amazonaws.com/datasets-jeremy/df_realestate_processed.csv'  \n",
    "#     urllib.request.urlretrieve(url, os.path.join('data', 'df_realestate_processed.csv'))  "
   ]
  },
  {
   "cell_type": "code",
   "execution_count": 87,
   "metadata": {},
   "outputs": [],
   "source": [
    "# # before preprocessing\n",
    "# file = os.path.join('data', 'df_realestate.csv')\n",
    "# df_realestate = pd.read_csv(file, encoding='big5')\n",
    "# df_realestate\n",
    "\n",
    "# # processed\n",
    "# path = \"data//df_realestate_processed.csv\"\n",
    "# df_realestate_processed = pd.read_csv(path)\n",
    "# X = df_realestate_processed.drop([\"price_per_meter\", \"total_price\"], axis=1)\n",
    "# Y = df_realestate_processed['total_price']\n"
   ]
  },
  {
   "cell_type": "code",
   "execution_count": 88,
   "metadata": {
    "scrolled": true
   },
   "outputs": [],
   "source": [
    "# df_realestate['price_per_ping'] = df_realestate['單價(元/平方公尺)']\n",
    "# showing_cols = [\n",
    "#     '主要建材',\n",
    "#     '主要用途', '交易年月日', '交易標的', '交易筆棟數', '備註', '土地區段位置/建物區段門牌',\n",
    "#     '土地移轉總面積(平方公尺)', '建物型態', '建物現況格局-廳', '建物現況格局-房', '建物現況格局-衛',\n",
    "#     '建物現況格局-隔間', '建物移轉總面積(平方公尺)', '建築完成年月', '有無管理組織', '移轉層次', '編號',\n",
    "#     '總樓層數', '車位移轉總面積(平方公尺)', '車位類別', '都市土地使用分區', '鄉鎮市區',\n",
    "#     '非都市土地使用分區', '非都市土地使用編定', \n",
    "#     'num_of_bus_stations_in_100m', 'income_avg', 'income_var', \n",
    "#     'location_type', 'low_use_electricity',\n",
    "#     'nearest_tarin_station', 'nearest_tarin_station_distance',\n",
    "#     'lat', 'lng', 'price_per_ping'\n",
    "# ]\n",
    "\n",
    "# df_realestate = df_realestate[showing_cols]"
   ]
  },
  {
   "cell_type": "code",
   "execution_count": 89,
   "metadata": {},
   "outputs": [
    {
     "name": "stdout",
     "output_type": "stream",
     "text": [
      "75203\n",
      "70670\n"
     ]
    }
   ],
   "source": [
    "# print(len(df_realestate))\n",
    "# df_realestate = df_realestate[pd.notnull(df_realestate['price_per_ping'])]\n",
    "# print(len(df_realestate))\n"
   ]
  },
  {
   "cell_type": "code",
   "execution_count": 90,
   "metadata": {
    "scrolled": true
   },
   "outputs": [],
   "source": [
    "# train, test = train_test_split(df_realestate, random_state=4242, test_size=1500)\n",
    "# train = train.reset_index()\n",
    "# train.loc[:, 'index'] = train.index\n",
    "# test = test.reset_index()\n",
    "# test.loc[:, 'index'] = test.index\n",
    "# answer = test[['index', 'price_per_ping']]\n",
    "# submission = test[['index', 'price_per_ping']]\n",
    "# submission.loc[:, 'price_per_ping'] = 0.0\n",
    "# test = test.drop('price_per_ping', axis=1)"
   ]
  },
  {
   "cell_type": "code",
   "execution_count": 94,
   "metadata": {},
   "outputs": [],
   "source": [
    "# train.to_csv(os.path.join('data', 'train.csv'), index=False)\n",
    "# test.to_csv(os.path.join('data', 'test.csv'), index=False)\n",
    "# answer.to_csv(os.path.join('data', 'answer.csv'), index=False)\n",
    "# submission.to_csv(os.path.join('data', 'submission.csv'), index=False)\n"
   ]
  },
  {
   "cell_type": "code",
   "execution_count": 96,
   "metadata": {},
   "outputs": [],
   "source": [
    "# test_submission = answer\n",
    "# test_submission['price_per_ping'] = answer['price_per_ping'].mean()"
   ]
  },
  {
   "cell_type": "code",
   "execution_count": 99,
   "metadata": {},
   "outputs": [],
   "source": [
    "# test_submission.to_csv(os.path.join('data', 'test_submission.csv'), index=False)\n"
   ]
  }
 ],
 "metadata": {
  "kernelspec": {
   "display_name": "TronGisPy",
   "language": "python",
   "name": "python3"
  },
  "language_info": {
   "codemirror_mode": {
    "name": "ipython",
    "version": 3
   },
   "file_extension": ".py",
   "mimetype": "text/x-python",
   "name": "python",
   "nbconvert_exporter": "python",
   "pygments_lexer": "ipython3",
   "version": "3.6.8"
  }
 },
 "nbformat": 4,
 "nbformat_minor": 2
}
