{
 "cells": [
  {
   "cell_type": "code",
   "execution_count": 2,
   "metadata": {},
   "outputs": [],
   "source": [
    "import numpy as np\n",
    "import pandas as pd"
   ]
  },
  {
   "cell_type": "code",
   "execution_count": 5,
   "metadata": {},
   "outputs": [
    {
     "data": {
      "text/html": [
       "<div>\n",
       "<style scoped>\n",
       "    .dataframe tbody tr th:only-of-type {\n",
       "        vertical-align: middle;\n",
       "    }\n",
       "\n",
       "    .dataframe tbody tr th {\n",
       "        vertical-align: top;\n",
       "    }\n",
       "\n",
       "    .dataframe thead th {\n",
       "        text-align: right;\n",
       "    }\n",
       "</style>\n",
       "<table border=\"1\" class=\"dataframe\">\n",
       "  <thead>\n",
       "    <tr style=\"text-align: right;\">\n",
       "      <th></th>\n",
       "      <th>name</th>\n",
       "      <th>id</th>\n",
       "      <th>rank</th>\n",
       "    </tr>\n",
       "  </thead>\n",
       "  <tbody>\n",
       "    <tr>\n",
       "      <th>0</th>\n",
       "      <td>許軒耀</td>\n",
       "      <td>01</td>\n",
       "      <td>1</td>\n",
       "    </tr>\n",
       "    <tr>\n",
       "      <th>1</th>\n",
       "      <td>蕭熙曈</td>\n",
       "      <td>03</td>\n",
       "      <td>2</td>\n",
       "    </tr>\n",
       "    <tr>\n",
       "      <th>2</th>\n",
       "      <td>蔡睿庭</td>\n",
       "      <td>04</td>\n",
       "      <td>16</td>\n",
       "    </tr>\n",
       "    <tr>\n",
       "      <th>3</th>\n",
       "      <td>張竣桓</td>\n",
       "      <td>05</td>\n",
       "      <td>4</td>\n",
       "    </tr>\n",
       "    <tr>\n",
       "      <th>4</th>\n",
       "      <td>蔡承翰</td>\n",
       "      <td>07</td>\n",
       "      <td>33</td>\n",
       "    </tr>\n",
       "  </tbody>\n",
       "</table>\n",
       "</div>"
      ],
      "text/plain": [
       "  name  id  rank\n",
       "0  許軒耀  01     1\n",
       "1  蕭熙曈  03     2\n",
       "2  蔡睿庭  04    16\n",
       "3  張竣桓  05     4\n",
       "4  蔡承翰  07    33"
      ]
     },
     "execution_count": 5,
     "metadata": {},
     "output_type": "execute_result"
    }
   ],
   "source": [
    "data = [[\"許軒耀\", \"01\", 1], [\"蕭熙曈\", \"03\", 2], [\"蔡睿庭\", \"04\", 16], [\"張竣桓\", \"05\", 4], [\"蔡承翰\", \"07\", 33], [\"林哲宇\", \"08\", 7], [\"林德威\", \"09\", 15], [\"葉令裡\", \"10\", 32], [\"鈞弘\", \"11\", 27], [\"孫詠愛\", \"12\", 70], [\"曹昱維\", \"13\", 5], [\"方皓\", \"14\", 9], [\"呂易軒\", \"15\", 28], [\"張根琥\", \"16\", 10], [\"周雍惟\", \"17\", 12], [\"陳軒竹\", \"18\", 13], [\"黃冠宇\", \"19\", 31], [\"蕭聖諠\", \"20\", 6], [\"高致詮\", \"21\", 14], [\"高泉心\", \"22\", 23], [\"蔡承傑\", \"23\", 8], [\"林鼎鈞\", \"24\", 69], [\"葉政峰\", \"25\", 17], [\"白浩均\", \"26\", 11],]\n",
    "df_score = pd.DataFrame(data, columns=['name', \"id\", 'rank'])\n",
    "df_score.head()\n"
   ]
  },
  {
   "cell_type": "code",
   "execution_count": 17,
   "metadata": {},
   "outputs": [
    {
     "data": {
      "text/html": [
       "<div>\n",
       "<style scoped>\n",
       "    .dataframe tbody tr th:only-of-type {\n",
       "        vertical-align: middle;\n",
       "    }\n",
       "\n",
       "    .dataframe tbody tr th {\n",
       "        vertical-align: top;\n",
       "    }\n",
       "\n",
       "    .dataframe thead th {\n",
       "        text-align: right;\n",
       "    }\n",
       "</style>\n",
       "<table border=\"1\" class=\"dataframe\">\n",
       "  <thead>\n",
       "    <tr style=\"text-align: right;\">\n",
       "      <th></th>\n",
       "      <th>name</th>\n",
       "      <th>id</th>\n",
       "      <th>rank</th>\n",
       "    </tr>\n",
       "  </thead>\n",
       "  <tbody>\n",
       "    <tr>\n",
       "      <th>0</th>\n",
       "      <td>許軒耀</td>\n",
       "      <td>01</td>\n",
       "      <td>1</td>\n",
       "    </tr>\n",
       "    <tr>\n",
       "      <th>1</th>\n",
       "      <td>蕭熙曈</td>\n",
       "      <td>03</td>\n",
       "      <td>2</td>\n",
       "    </tr>\n",
       "    <tr>\n",
       "      <th>3</th>\n",
       "      <td>張竣桓</td>\n",
       "      <td>05</td>\n",
       "      <td>4</td>\n",
       "    </tr>\n",
       "    <tr>\n",
       "      <th>10</th>\n",
       "      <td>曹昱維</td>\n",
       "      <td>13</td>\n",
       "      <td>5</td>\n",
       "    </tr>\n",
       "    <tr>\n",
       "      <th>17</th>\n",
       "      <td>蕭聖諠</td>\n",
       "      <td>20</td>\n",
       "      <td>6</td>\n",
       "    </tr>\n",
       "  </tbody>\n",
       "</table>\n",
       "</div>"
      ],
      "text/plain": [
       "   name  id  rank\n",
       "0   許軒耀  01     1\n",
       "1   蕭熙曈  03     2\n",
       "3   張竣桓  05     4\n",
       "10  曹昱維  13     5\n",
       "17  蕭聖諠  20     6"
      ]
     },
     "execution_count": 17,
     "metadata": {},
     "output_type": "execute_result"
    }
   ],
   "source": [
    "df_score_sorted = df_score.sort_values('rank')\n",
    "df_score_sorted['id'] = df_score_sorted['id'].apply(lambda x:x.zfill(2))\n",
    "df_score_sorted.head()"
   ]
  },
  {
   "cell_type": "code",
   "execution_count": 27,
   "metadata": {},
   "outputs": [],
   "source": [
    "final_score = np.random.normal(85, 3, len(df_score))\n",
    "final_score = sorted(final_score, reverse=True)\n",
    "df_score_sorted['final_score'] = final_score\n",
    "df_score_sorted.sort_values('id').to_csv('final_score.csv', index=False)\n",
    "df_score_sorted.sort_values('id').to_csv('final_score.csv', encoding='cp950', index=False)"
   ]
  },
  {
   "cell_type": "code",
   "execution_count": null,
   "metadata": {},
   "outputs": [],
   "source": []
  }
 ],
 "metadata": {
  "kernelspec": {
   "display_name": "Python 3",
   "language": "python",
   "name": "python3"
  },
  "language_info": {
   "codemirror_mode": {
    "name": "ipython",
    "version": 3
   },
   "file_extension": ".py",
   "mimetype": "text/x-python",
   "name": "python",
   "nbconvert_exporter": "python",
   "pygments_lexer": "ipython3",
   "version": "3.6.7"
  }
 },
 "nbformat": 4,
 "nbformat_minor": 2
}
